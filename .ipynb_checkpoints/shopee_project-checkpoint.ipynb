{
 "cells": [
  {
   "cell_type": "code",
   "execution_count": null,
   "id": "bf617c7e-f532-4671-91af-124dc455ed72",
   "metadata": {},
   "outputs": [],
   "source": [
    "import numpy as np\n",
    "import pandas as pd\n",
    "import os\n",
    "import matplotlib.pyplot as plt\n",
    "\n",
    "\n",
    "pd.set_option('display.max_rows', None)\n",
    "pd.set_option('display.max_columns', None)"
   ]
  },
  {
   "cell_type": "code",
   "execution_count": null,
   "id": "a554fbe1-c988-499a-80df-3568e6a871ac",
   "metadata": {},
   "outputs": [],
   "source": [
    "df = pd.read_csv('allv2_csv.csv')"
   ]
  },
  {
   "cell_type": "code",
   "execution_count": null,
   "id": "7ea9d7f3-87cf-49b1-b58c-f67ee8bdd655",
   "metadata": {},
   "outputs": [],
   "source": [
    "df.describe()"
   ]
  },
  {
   "cell_type": "code",
   "execution_count": null,
   "id": "33525fd5-79cb-4bfd-87cb-ddf08d09c201",
   "metadata": {},
   "outputs": [],
   "source": [
    "#Transform column name uniformity\n",
    "df.columns = df.columns.str.upper()\n",
    "df.columns = df.columns.str.replace(\"(Y/N)\", '')\n",
    "df.columns = df.columns.str.replace(\"(BUYER)\", '')\n",
    "df.columns = df.columns.str.replace(\"(PHP)\", '')\n",
    "df.columns = df.columns.str.replace(\"/\", '')\n",
    "df.columns = df.columns.str.replace(\"*\", '')\n",
    "df.columns = df.columns.str.replace(\" \", '_')\n",
    "df.columns = df.columns.str.replace(\"PRODUCTS'_PRICE_PAID_BY_BUYER_\", \"PRODUCTS'_PRICE_PAID_BY_BUYER\")"
   ]
  },
  {
   "cell_type": "code",
   "execution_count": null,
   "id": "d4e566a9-08c4-4cc8-b540-b903f63f23d3",
   "metadata": {},
   "outputs": [],
   "source": [
    "#Fix date to YYYY-MM-DD only w/o time\n",
    "df['ORDER_CREATION_DATE'] = pd.to_datetime(df['ORDER_CREATION_DATE'])\n",
    "df['DATE'] = df['ORDER_CREATION_DATE'].dt.date\n",
    "#Format to datetime64 type\n",
    "df['DATE'] = pd.to_datetime(df['DATE'])\n",
    "#Set index to date\n",
    "df.set_index(df['DATE'], inplace=True)\n",
    "#Extract Month Only\n",
    "df['MONTH'] = df['DATE'].dt.month\n",
    "#Extract Year Only\n",
    "df['YEAR'] = df['DATE'].dt.year\n",
    "#Extract Time Only\n",
    "df['TIME'] = df['ORDER_CREATION_DATE'].dt.time\n",
    "#Convert to datetime64, round to the nearest hour, and format to only show time w/o dates\n",
    "# df['TIME'] = pd.to_datetime(df['TIME'], format = '%H:%M:%S').dt.floor('h').dt.strftime('%H:%M:%S')\n",
    "#Combine Month-Year-Time\n",
    "df['MONTH-YEAR-TIME'] = df.apply(lambda x: f\"{x['YEAR']}-{x['MONTH']}-{x['TIME']}\", axis = 1)"
   ]
  },
  {
   "cell_type": "code",
   "execution_count": null,
   "id": "d7f3146a-6c77-40dc-8d62-ffc266aa2e4e",
   "metadata": {
    "scrolled": true
   },
   "outputs": [],
   "source": [
    "df.dtypes"
   ]
  },
  {
   "cell_type": "code",
   "execution_count": null,
   "id": "25911dac-53de-4136-af96-22e4e180f7d8",
   "metadata": {},
   "outputs": [],
   "source": [
    "df.head()"
   ]
  },
  {
   "cell_type": "code",
   "execution_count": null,
   "id": "3dd463a0-534c-41c0-a426-6e3618a5b6d5",
   "metadata": {
    "scrolled": true
   },
   "outputs": [],
   "source": [
    "df.loc[:, 'PRODUCT_NAME'].unique()"
   ]
  },
  {
   "cell_type": "code",
   "execution_count": null,
   "id": "23bb1437-b50e-4ee3-8ef5-b20dab912e9e",
   "metadata": {
    "scrolled": true
   },
   "outputs": [],
   "source": [
    "keywords = ['Anik-Anik', 'UK and US', 'Stationeries', 'Anik Anik', \"Miner's\", \"Self\", \"Checkout\", \"Checkout\", 'US and UK', 'Uk', 'US UK', 'checkout', 'Sis', 'sis']\n",
    "for product_name in df['PRODUCT_NAME'].unique():\n",
    "    # Check if any keyword is in the product name\n",
    "    if not any(keyword in product_name for keyword in keywords):\n",
    "        print(product_name)"
   ]
  },
  {
   "cell_type": "code",
   "execution_count": null,
   "id": "c591d3b0-b380-4914-a2e7-f5febdd3db72",
   "metadata": {
    "scrolled": true
   },
   "outputs": [],
   "source": [
    "df['LIST'] = df.apply(lambda x: 'LIVE' if any(keyword in x['PRODUCT_NAME'] for keyword in keywords) else 'LISTING', axis = 1)"
   ]
  },
  {
   "cell_type": "code",
   "execution_count": null,
   "id": "97967783-549e-470b-bbaf-97ab4c443607",
   "metadata": {
    "scrolled": true
   },
   "outputs": [],
   "source": [
    "df[df['LIST'].str.contains('LIVE')]"
   ]
  },
  {
   "cell_type": "code",
   "execution_count": null,
   "id": "55233e8d-4d3e-4c76-b504-8ac050d03ec1",
   "metadata": {
    "scrolled": true
   },
   "outputs": [],
   "source": [
    "by_list = df.groupby('LIST').sum(numeric_only=True)\n",
    "by_list.plot.barh(y = [\"GRAND_TOTAL\", \"PRODUCTS'_PRICE_PAID_BY_BUYER\"], color = ['orange', 'skyblue'])\n",
    "\n",
    "plt.xlabel(\"GRAND TOTAL\")\n",
    "plt.xticks(ticks = [200000, 400000, 600000, 800000, 1000000, 1200000, 1400000, 1600000], labels = ['200000', '400000', '600000', '800000', '1000000', '1200000', '1400000', '1600000'])"
   ]
  },
  {
   "cell_type": "code",
   "execution_count": null,
   "id": "5b25fac8-729a-482d-841c-be3cbac1826d",
   "metadata": {},
   "outputs": [],
   "source": [
    "by_username = df.groupby('USERNAME_').sum(numeric_only=True).sort_values(by = 'GRAND_TOTAL', ascending = True)\n",
    "by_useranme = by_username.tail(20).plot.barh(y = 'GRAND_TOTAL')"
   ]
  },
  {
   "cell_type": "code",
   "execution_count": null,
   "id": "817da5d0-56f1-4c8f-8914-df55e6f325a7",
   "metadata": {},
   "outputs": [],
   "source": [
    "by_city = df.groupby('CITY').sum(numeric_only=True).sort_values(by = 'GRAND_TOTAL', ascending = True)\n",
    "by_city.tail(10).plot.barh(y = 'GRAND_TOTAL')"
   ]
  },
  {
   "cell_type": "code",
   "execution_count": null,
   "id": "d058bdd2-ad45-40b9-ae9b-0f308ade256c",
   "metadata": {},
   "outputs": [],
   "source": [
    "by_product = df.groupby('PRODUCT_NAME').sum(numeric_only=True).sort_values(by = 'GRAND_TOTAL', ascending = True)\n",
    "by_product.tail(10).plot.barh(y = 'GRAND_TOTAL')"
   ]
  },
  {
   "cell_type": "code",
   "execution_count": null,
   "id": "0d31aeb7-166d-4816-8700-cae7fa520ce7",
   "metadata": {},
   "outputs": [],
   "source": [
    "#Method:2 Group by username. Determine when was their first and recent order.\n",
    "result = df.groupby('USERNAME_')['ORDER_CREATION_DATE'].agg(\n",
    "    first_order='min',\n",
    "    last_order='max'\n",
    ")"
   ]
  },
  {
   "cell_type": "code",
   "execution_count": null,
   "id": "8d908351-33a3-4384-8498-cadc0008576d",
   "metadata": {
    "scrolled": true
   },
   "outputs": [],
   "source": [
    "result"
   ]
  },
  {
   "cell_type": "code",
   "execution_count": null,
   "id": "1bf07378-0337-462a-86d5-cd01bcee1894",
   "metadata": {},
   "outputs": [],
   "source": [
    "#Method:2 Group by username. Determine when was their first and recent order.\n",
    "#Notice how in Method #1, we used ['ORDER_CREATION_DATE'] to pass all first argument as that column.\n",
    "#Here, we manually put it in the first argument because we will eventually use ['GRAND_TOTAL']\n",
    "result = df.groupby('USERNAME_').agg(\n",
    "    FIRST_ORDER = ('ORDER_CREATION_DATE', 'min'),\n",
    "    LAST_ORDER = ('ORDER_CREATION_DATE', 'max'),\n",
    "    PURCHASE_TOTAL = ('GRAND_TOTAL', 'sum')\n",
    ").sort_values(by = 'PURCHASE_TOTAL', ascending = False)"
   ]
  },
  {
   "cell_type": "code",
   "execution_count": null,
   "id": "bd20483c-83ee-49e0-866a-e5558a68523f",
   "metadata": {
    "scrolled": true
   },
   "outputs": [],
   "source": [
    "result"
   ]
  },
  {
   "cell_type": "code",
   "execution_count": null,
   "id": "9871847d-5bf6-43ec-b6d1-57b1a29d93f3",
   "metadata": {},
   "outputs": [],
   "source": [
    "df['USERNAME_'] = df['USERNAME_'].apply(lambda x: '***' + x[3:] if isinstance(x, str) and len(x) > 3 else x)"
   ]
  },
  {
   "cell_type": "code",
   "execution_count": null,
   "id": "050017ec-fc35-4224-ac77-91f0ddb4cb60",
   "metadata": {
    "scrolled": true
   },
   "outputs": [],
   "source": [
    "df.fillna('')"
   ]
  },
  {
   "cell_type": "code",
   "execution_count": null,
   "id": "5ff91cae-bf72-4012-8251-e06f36172b95",
   "metadata": {
    "scrolled": true
   },
   "outputs": [],
   "source": [
    "df.groupby(df.index).sum(numeric_only=True)"
   ]
  },
  {
   "cell_type": "code",
   "execution_count": null,
   "id": "311936ad-76b3-44e7-91c5-53d5fecb58b6",
   "metadata": {},
   "outputs": [],
   "source": [
    "df['MONTH-YEAR'] = df.apply(lambda x: f\"{x['YEAR']}-{x['MONTH']}\", axis = 1)\n",
    "df['MONTH-YEAR'] = pd.to_datetime(df['MONTH-YEAR'])"
   ]
  },
  {
   "cell_type": "code",
   "execution_count": null,
   "id": "c132a08e-588c-49a2-87c4-fc59f64a5021",
   "metadata": {},
   "outputs": [],
   "source": [
    "by_monthyear = df.groupby('MONTH-YEAR').sum(numeric_only=True).sort_values(by = 'MONTH-YEAR', ascending =True)\n",
    "by_monthyear_2022 = by_monthyear[by_monthyear.index.astype(str).str.startswith('2022')]\n",
    "by_monthyear_2023 = by_monthyear[by_monthyear.index.astype(str).str.startswith('2023')]\n",
    "by_monthyear_2024 = by_monthyear[by_monthyear.index.astype(str).str.startswith('2024')]"
   ]
  },
  {
   "cell_type": "code",
   "execution_count": null,
   "id": "8a9371a7-09b4-45ac-849c-4f43437183fe",
   "metadata": {},
   "outputs": [],
   "source": [
    "pd.DataFrame(by_monthyear_2022['GRAND_TOTAL'])"
   ]
  },
  {
   "cell_type": "code",
   "execution_count": null,
   "id": "cef3645e-c45d-46d4-ae9c-ce62dcb2a6dc",
   "metadata": {},
   "outputs": [],
   "source": [
    "by_monthyear_2022.sort_values(by = 'GRAND_TOTAL', ascending = False).plot.bar(y = 'GRAND_TOTAL')"
   ]
  },
  {
   "cell_type": "code",
   "execution_count": null,
   "id": "afe9653f-3208-4667-b530-4192a2477277",
   "metadata": {},
   "outputs": [],
   "source": [
    "by_monthyear_2023.sort_values(by = 'MONTH-YEAR', ascending = True).plot.bar(y = 'GRAND_TOTAL')"
   ]
  },
  {
   "cell_type": "code",
   "execution_count": null,
   "id": "ad29d9cb-1f25-4c0e-afa5-f6f7a56a90a7",
   "metadata": {},
   "outputs": [],
   "source": [
    "pd.DataFrame(by_monthyear_2023['GRAND_TOTAL'])"
   ]
  },
  {
   "cell_type": "code",
   "execution_count": null,
   "id": "72dedb6d-e2d8-4759-8155-3089cd618c38",
   "metadata": {},
   "outputs": [],
   "source": [
    "by_monthyear_2024.plot.bar(y = 'GRAND_TOTAL')"
   ]
  },
  {
   "cell_type": "code",
   "execution_count": null,
   "id": "41940354-e798-4943-9f68-5d800026539f",
   "metadata": {
    "scrolled": true
   },
   "outputs": [],
   "source": [
    "df.groupby('MONTH-YEAR-TIME').sum(numeric_only = True)"
   ]
  },
  {
   "cell_type": "code",
   "execution_count": null,
   "id": "0bc68576-b5ad-4534-b28c-20c7af3eb0c4",
   "metadata": {
    "scrolled": true
   },
   "outputs": [],
   "source": [
    "df.groupby('ORDER_CREATION_DATE').sum(numeric_only=True)"
   ]
  },
  {
   "cell_type": "code",
   "execution_count": null,
   "id": "3f9678c8-6fb8-4f33-aa29-4a527bffe40a",
   "metadata": {},
   "outputs": [],
   "source": [
    "#filter according to time\n",
    "am_12 = df[df['TIME'].astype(str).str.startswith('00')]\n",
    "am_1 = df[df['TIME'].astype(str).str.startswith('01')]\n",
    "am_2 = df[df['TIME'].astype(str).str.startswith('02')]\n",
    "am_3 = df[df['TIME'].astype(str).str.startswith('03')]\n",
    "am_4 = df[df['TIME'].astype(str).str.startswith('04')]\n",
    "am_5 = df[df['TIME'].astype(str).str.startswith('05')]\n",
    "am_6 = df[df['TIME'].astype(str).str.startswith('06')]\n",
    "am_7 = df[df['TIME'].astype(str).str.startswith('07')]\n",
    "am_8 = df[df['TIME'].astype(str).str.startswith('08')]\n",
    "am_9 = df[df['TIME'].astype(str).str.startswith('09')]\n",
    "am_10 = df[df['TIME'].astype(str).str.startswith('10')]\n",
    "am_11 = df[df['TIME'].astype(str).str.startswith('11')]\n",
    "pm_1 = df[df['TIME'].astype(str).str.startswith('13')]\n",
    "pm_2 = df[df['TIME'].astype(str).str.startswith('14')]\n",
    "pm_3 = df[df['TIME'].astype(str).str.startswith('15')]\n",
    "pm_4 = df[df['TIME'].astype(str).str.startswith('16')]\n",
    "pm_5 = df[df['TIME'].astype(str).str.startswith('17')]\n",
    "pm_6 = df[df['TIME'].astype(str).str.startswith('18')]\n",
    "pm_7 = df[df['TIME'].astype(str).str.startswith('19')]\n",
    "pm_8 = df[df['TIME'].astype(str).str.startswith('20')]\n",
    "pm_9 = df[df['TIME'].astype(str).str.startswith('21')]\n",
    "pm_10 = df[df['TIME'].astype(str).str.startswith('22')]\n",
    "pm_11 = df[df['TIME'].astype(str).str.startswith('23')]\n",
    "pm_12 = df[df['TIME'].astype(str).str.startswith('24')]"
   ]
  },
  {
   "cell_type": "code",
   "execution_count": null,
   "id": "57c2b5fa-2931-4ae0-9454-7682ed6c3343",
   "metadata": {
    "scrolled": true
   },
   "outputs": [],
   "source": [
    "#Time Summary Test\n",
    "pd.DataFrame(am_12.sum(numeric_only=True))"
   ]
  },
  {
   "cell_type": "code",
   "execution_count": null,
   "id": "11d6d189-5428-416f-8c32-9cd22af58267",
   "metadata": {},
   "outputs": [],
   "source": []
  }
 ],
 "metadata": {
  "kernelspec": {
   "display_name": "Python 3 (ipykernel)",
   "language": "python",
   "name": "python3"
  },
  "language_info": {
   "codemirror_mode": {
    "name": "ipython",
    "version": 3
   },
   "file_extension": ".py",
   "mimetype": "text/x-python",
   "name": "python",
   "nbconvert_exporter": "python",
   "pygments_lexer": "ipython3",
   "version": "3.12.4"
  }
 },
 "nbformat": 4,
 "nbformat_minor": 5
}
