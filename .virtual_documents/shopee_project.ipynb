import numpy as np
import pandas as pd
import os
import matplotlib.pyplot as plt


pd.set_option('display.max_rows', 50)
pd.set_option('display.max_columns', None)


df = pd.read_csv('allv2_csv.csv')


df.describe()


#Transform column name uniformity
df.columns = df.columns.str.upper()
df.columns = df.columns.str.replace("(Y/N)", '')
df.columns = df.columns.str.replace("(BUYER)", '')
df.columns = df.columns.str.replace("(PHP)", '')
df.columns = df.columns.str.replace("/", '')
df.columns = df.columns.str.replace("*", '')
df.columns = df.columns.str.replace(" ", '_')
df.columns = df.columns.str.replace("PRODUCTS'_PRICE_PAID_BY_BUYER_", "PRODUCTS'_PRICE_PAID_BY_BUYER")


#Fix date to YYYY-MM-DD only w/o time
df['ORDER_CREATION_DATE'] = pd.to_datetime(df['ORDER_CREATION_DATE'])
df['DATE'] = df['ORDER_CREATION_DATE'].dt.date
#Format to datetime64 type
df['DATE'] = pd.to_datetime(df['DATE'])
#Set index to date
df.set_index(df['DATE'], inplace=True)
#Extract Month Only
df['MONTH'] = df['DATE'].dt.month
#Extract Year Only
df['YEAR'] = df['DATE'].dt.year
#Extract Time Only
df['TIME'] = df['ORDER_CREATION_DATE'].dt.time
#Convert to datetime64, round to the nearest hour, and format to only show time w/o dates
# df['TIME'] = pd.to_datetime(df['TIME'], format = '%H:%M:%S').dt.floor('h').dt.strftime('%H:%M:%S')
#Combine Month-Year-Time
df['MONTH-YEAR-TIME'] = df.apply(lambda x: f"{x['YEAR']}-{x['MONTH']}-{x['TIME']}", axis = 1)
#Add Zero in Month
df['MONTH'] = df.apply(lambda x: f"{'0'}{x['MONTH']}" if len(str(x['MONTH'])) < 2 else x['MONTH'], axis = 1)


df.dtypes


df.head()


df.loc[:, 'PRODUCT_NAME'].unique()


keywords = ['Anik-Anik', 'UK and US', 'Stationeries', 'Anik Anik', "Miner's", "Self", "Checkout", "Checkout", 'US and UK', 'Uk', 'US UK', 'checkout', 'Sis', 'sis']
for product_name in df['PRODUCT_NAME'].unique():
    if not any(keyword in product_name for keyword in keywords):
        print(product_name)
# Checks if any keyword is in the product name


df['LIST'] = df.apply(lambda x: 'LIVE' if any(keyword in x['PRODUCT_NAME'] for keyword in keywords) else 'LISTING', axis = 1)


df[df['LIST'].str.contains('LIVE')]


by_list = df.groupby('LIST').sum(numeric_only=True)
by_list.plot.barh(y = ["GRAND_TOTAL", "PRODUCTS'_PRICE_PAID_BY_BUYER"], color = ['orange', 'skyblue'])

plt.xlabel("GRAND TOTAL")
plt.xticks(ticks = [200000, 400000, 600000, 800000, 1000000, 1200000, 1400000, 1600000], labels = ['200000', '400000', '600000', '800000', '1000000', '1200000', '1400000', '1600000'])


by_username = df.groupby('USERNAME_').sum(numeric_only=True).sort_values(by = 'GRAND_TOTAL', ascending = True)
by_useranme = by_username.tail(30).plot.barh(y = 'GRAND_TOTAL')


by_city = df.groupby('CITY').sum(numeric_only=True).sort_values(by = 'GRAND_TOTAL', ascending = True)
by_city.tail(10).plot.barh(y = 'GRAND_TOTAL')


pd.DataFrame(by_city['GRAND_TOTAL'].tail(40))


by_product = df.groupby('PRODUCT_NAME').sum(numeric_only=True).sort_values(by = 'GRAND_TOTAL', ascending = False)
by_product.tail(10).plot.barh(y = 'GRAND_TOTAL')


pd.DataFrame(by_product['GRAND_TOTAL'].head(20))


#Method:2 Group by username. Determine when was their first and recent order.
result = df.groupby('USERNAME_')['ORDER_CREATION_DATE'].agg(
    first_order='min',
    last_order='max'
)


result


#Method:2 Group by username. Determine when was their first and recent order.
#Notice how in Method #1, we used ['ORDER_CREATION_DATE'] to pass all first argument as that column.
#Here, we manually put it in the first argument because we will eventually use ['GRAND_TOTAL']
result = df.groupby('USERNAME_').agg(
    FIRST_ORDER = ('ORDER_CREATION_DATE', 'min'),
    LAST_ORDER = ('ORDER_CREATION_DATE', 'max'),
    PURCHASE_TOTAL = ('GRAND_TOTAL', 'sum')
).sort_values(by = 'PURCHASE_TOTAL', ascending = False)


result


df['USERNAME_'] = df['USERNAME_'].apply(lambda x: '***' + x[3:] if isinstance(x, str) and len(x) > 3 else x)


df.fillna('')


df.groupby(df.index).sum(numeric_only=True)


df['MONTH-YEAR'] = df.apply(lambda x: f"{x['YEAR']}-{x['MONTH']}", axis = 1)
df['MONTH-YEAR'] = pd.to_datetime(df['MONTH-YEAR'])


by_monthyear = df.groupby('MONTH-YEAR').sum(numeric_only=True).sort_values(by = 'MONTH-YEAR', ascending =True)
by_monthyear_2022 = by_monthyear[by_monthyear.index.astype(str).str.startswith('2022')]
by_monthyear_2023 = by_monthyear[by_monthyear.index.astype(str).str.startswith('2023')]
by_monthyear_2024 = by_monthyear[by_monthyear.index.astype(str).str.startswith('2024')]


pd.DataFrame(by_monthyear['GRAND_TOTAL'])


by_monthyear['CHANGE'] = by_monthyear['GRAND_TOTAL'].diff().fillna(0)
by_monthyear['CHANGE_%'] = (by_monthyear['CHANGE'] / by_monthyear['GRAND_TOTAL'].shift(1)) * 100
by_monthyear['CHANGE_%_MEAN'] = by_monthyear['CHANGE_%'].mean()


by_monthyear[['GRAND_TOTAL', 'CHANGE', 'CHANGE_%']]


pd.DataFrame(by_monthyear_2022['GRAND_TOTAL'])


by_monthyear_2022.sort_values(by = 'GRAND_TOTAL', ascending = False).plot.bar(y = 'GRAND_TOTAL')


by_monthyear_2022['CHANGE'] = by_monthyear_2022['GRAND_TOTAL'].diff().fillna(0)
by_monthyear_2022['CHANGE_MEAN'] = by_monthyear_2022['CHANGE'].mean()
by_monthyear_2022['CHANGE_PER_MONTH_%'] = (by_monthyear_2022['CHANGE'] / by_monthyear_2022['GRAND_TOTAL'].shift(1)) * 100
by_monthyear_2022['CHANGE_PER_MONTH_%_MEAN'] = by_monthyear_2022['CHANGE_PER_MONTH_%'].mean()
by_monthyear_2022


by_monthyear_2023.sort_values(by = 'MONTH-YEAR', ascending = True).plot.bar(y = 'GRAND_TOTAL')


by_monthyear_2023['CHANGE'] = by_monthyear_2023['GRAND_TOTAL'].diff().fillna(0)
by_monthyear_2023['CHANGE_MEAN'] = by_monthyear_2023['CHANGE'].mean()
by_monthyear_2023['CHANGE_PER_MONTH_%'] = (by_monthyear_2023['CHANGE'] / by_monthyear_2023['GRAND_TOTAL'].shift(1)) * 100
by_monthyear_2023['CHANGE_PER_MONTH_%_MEAN'] = by_monthyear_2023['CHANGE_PER_MONTH_%'].mean()
by_monthyear_2023


pd.DataFrame(by_monthyear_2023['GRAND_TOTAL'])


by_monthyear_2024.plot.bar(y = 'GRAND_TOTAL')


by_monthyear_2024['CHANGE'] = by_monthyear_2024['GRAND_TOTAL'].diff().fillna(0)
by_monthyear_2024['CHANGE_%'] = (by_monthyear_2024['CHANGE'] / by_monthyear_2024['GRAND_TOTAL'].shift(1)) * 100
by_monthyear_2024['CHANGE_%_MEAN'] = by_monthyear_2024['CHANGE_%'].mean()
by_monthyear_2024


pd.DataFrame(by_monthyear_2024['GRAND_TOTAL'])


df.groupby('MONTH-YEAR-TIME').sum(numeric_only = True)


df.groupby('ORDER_CREATION_DATE').sum(numeric_only=True)


#filter according to time
# am_12 = df[(df['TIME'].astype(str).str.startswith('00')) & (df['YEAR'].astype(str).str.startswith('2022'))] #time, filtered with year
am_12 = df[(df['TIME'].astype(str).str.startswith('00'))]
am_1 = df[df['TIME'].astype(str).str.startswith('01')]
am_2 = df[df['TIME'].astype(str).str.startswith('02')]
am_3 = df[df['TIME'].astype(str).str.startswith('03')]
am_4 = df[df['TIME'].astype(str).str.startswith('04')]
am_5 = df[df['TIME'].astype(str).str.startswith('05')]
am_6 = df[df['TIME'].astype(str).str.startswith('06')]
am_7 = df[df['TIME'].astype(str).str.startswith('07')]
am_8 = df[df['TIME'].astype(str).str.startswith('08')]
am_9 = df[df['TIME'].astype(str).str.startswith('09')]
am_10 = df[df['TIME'].astype(str).str.startswith('10')]
am_11 = df[df['TIME'].astype(str).str.startswith('11')]
pm_1 = df[df['TIME'].astype(str).str.startswith('13')]
pm_2 = df[df['TIME'].astype(str).str.startswith('14')]
pm_3 = df[df['TIME'].astype(str).str.startswith('15')]
pm_4 = df[df['TIME'].astype(str).str.startswith('16')]
pm_5 = df[df['TIME'].astype(str).str.startswith('17')]
pm_6 = df[df['TIME'].astype(str).str.startswith('18')]
pm_7 = df[df['TIME'].astype(str).str.startswith('19')]
pm_8 = df[df['TIME'].astype(str).str.startswith('20')]
pm_9 = df[df['TIME'].astype(str).str.startswith('21')]
pm_10 = df[df['TIME'].astype(str).str.startswith('22')]
pm_11 = df[df['TIME'].astype(str).str.startswith('23')]
pm_12 = df[df['TIME'].astype(str).str.startswith('24')]


#Time Summary Test
ran = range(1, 24)
pd.DataFrame({
    'Grand_Total': [am_12['GRAND_TOTAL'].sum(numeric_only=True),
                    am_1['GRAND_TOTAL'].sum(numeric_only=True),
                    am_2['GRAND_TOTAL'].sum(numeric_only=True),
                    am_3['GRAND_TOTAL'].sum(numeric_only=True),
                    am_4['GRAND_TOTAL'].sum(numeric_only=True),
                    am_5['GRAND_TOTAL'].sum(numeric_only=True),
                    am_6['GRAND_TOTAL'].sum(numeric_only=True),
                    am_7['GRAND_TOTAL'].sum(numeric_only=True),
                    am_8['GRAND_TOTAL'].sum(numeric_only=True),
                    am_9['GRAND_TOTAL'].sum(numeric_only=True),
                    am_10['GRAND_TOTAL'].sum(numeric_only=True),
                    am_11['GRAND_TOTAL'].sum(numeric_only=True),
                    pm_12['GRAND_TOTAL'].sum(numeric_only=True),
                    pm_1['GRAND_TOTAL'].sum(numeric_only=True),
                    pm_2['GRAND_TOTAL'].sum(numeric_only=True),
                    pm_3['GRAND_TOTAL'].sum(numeric_only=True),
                    pm_4['GRAND_TOTAL'].sum(numeric_only=True),
                    pm_5['GRAND_TOTAL'].sum(numeric_only=True),
                    pm_6['GRAND_TOTAL'].sum(numeric_only=True),
                    pm_7['GRAND_TOTAL'].sum(numeric_only=True),
                    pm_8['GRAND_TOTAL'].sum(numeric_only=True),
                    pm_9['GRAND_TOTAL'].sum(numeric_only=True),
                    pm_10['GRAND_TOTAL'].sum(numeric_only=True),
                    pm_11['GRAND_TOTAL'].sum(numeric_only=True),
                    
]}, 
 index = ['01:00:00','02:00:00','03:00:00','04:00:00','05:00:00','06:00:00','07:00:00','08:00:00','09:00:00','10:00:00','11:00:00','12:00:00','13:00:00',
          '14:00:00','15:00:00','16:00:00','17:00:00','18:00:00','19:00:00','20:00:00','21:00:00','22:00:00','23:00:00','24:00:00'
])


pd.DataFrame({
    'Grand_Total': [am_12['GRAND_TOTAL'].sum(numeric_only=True),
                    am_1['GRAND_TOTAL'].sum(numeric_only=True),
                    am_2['GRAND_TOTAL'].sum(numeric_only=True),
                    am_3['GRAND_TOTAL'].sum(numeric_only=True),
                    am_4['GRAND_TOTAL'].sum(numeric_only=True),
                    am_5['GRAND_TOTAL'].sum(numeric_only=True),
                    am_6['GRAND_TOTAL'].sum(numeric_only=True),
                    am_7['GRAND_TOTAL'].sum(numeric_only=True),
                    am_8['GRAND_TOTAL'].sum(numeric_only=True),
                    am_9['GRAND_TOTAL'].sum(numeric_only=True),
                    am_10['GRAND_TOTAL'].sum(numeric_only=True),
                    am_11['GRAND_TOTAL'].sum(numeric_only=True),
                    pm_12['GRAND_TOTAL'].sum(numeric_only=True),
                    pm_1['GRAND_TOTAL'].sum(numeric_only=True),
                    pm_2['GRAND_TOTAL'].sum(numeric_only=True),
                    pm_3['GRAND_TOTAL'].sum(numeric_only=True),
                    pm_4['GRAND_TOTAL'].sum(numeric_only=True),
                    pm_5['GRAND_TOTAL'].sum(numeric_only=True),
                    pm_6['GRAND_TOTAL'].sum(numeric_only=True),
                    pm_7['GRAND_TOTAL'].sum(numeric_only=True),
                    pm_8['GRAND_TOTAL'].sum(numeric_only=True),
                    pm_9['GRAND_TOTAL'].sum(numeric_only=True),
                    pm_10['GRAND_TOTAL'].sum(numeric_only=True),
                    pm_11['GRAND_TOTAL'].sum(numeric_only=True),
                    
]}, 
index = [f"{str(hour).zfill(2)}:00:00" for hour in range(0,24)
])


am_12_2022 = df[(df['TIME'].astype(str).str.startswith('00')) & (df['YEAR'].astype(str).str.startswith('2022'))]
am_1_2022 = df[(df['TIME'].astype(str).str.startswith('01')) & (df['YEAR'].astype(str).str.startswith('2022'))]
am_2_2022 = df[(df['TIME'].astype(str).str.startswith('02')) & (df['YEAR'].astype(str).str.startswith('2022'))]
am_3_2022 = df[(df['TIME'].astype(str).str.startswith('03')) & (df['YEAR'].astype(str).str.startswith('2022'))]
am_4_2022 = df[(df['TIME'].astype(str).str.startswith('04')) & (df['YEAR'].astype(str).str.startswith('2022'))]
am_5_2022 = df[(df['TIME'].astype(str).str.startswith('05')) & (df['YEAR'].astype(str).str.startswith('2022'))]
am_6_2022 = df[(df['TIME'].astype(str).str.startswith('06')) & (df['YEAR'].astype(str).str.startswith('2022'))]
am_7_2022 = df[(df['TIME'].astype(str).str.startswith('07')) & (df['YEAR'].astype(str).str.startswith('2022'))]
am_8_2022 = df[(df['TIME'].astype(str).str.startswith('08')) & (df['YEAR'].astype(str).str.startswith('2022'))]
am_9_2022 = df[(df['TIME'].astype(str).str.startswith('09')) & (df['YEAR'].astype(str).str.startswith('2022'))]
am_10_2022 = df[(df['TIME'].astype(str).str.startswith('10')) & (df['YEAR'].astype(str).str.startswith('2022'))]
am_11_2022 = df[(df['TIME'].astype(str).str.startswith('11')) & (df['YEAR'].astype(str).str.startswith('2022'))]
pm_1_2022 = df[(df['TIME'].astype(str).str.startswith('13')) & (df['YEAR'].astype(str).str.startswith('2022'))]
pm_2_2022 = df[(df['TIME'].astype(str).str.startswith('14')) & (df['YEAR'].astype(str).str.startswith('2022'))]
pm_3_2022 = df[(df['TIME'].astype(str).str.startswith('15')) & (df['YEAR'].astype(str).str.startswith('2022'))]
pm_4_2022 = df[(df['TIME'].astype(str).str.startswith('16')) & (df['YEAR'].astype(str).str.startswith('2022'))]
pm_5_2022 = df[(df['TIME'].astype(str).str.startswith('17')) & (df['YEAR'].astype(str).str.startswith('2022'))]
pm_6_2022 = df[(df['TIME'].astype(str).str.startswith('18')) & (df['YEAR'].astype(str).str.startswith('2022'))]
pm_7_2022 = df[(df['TIME'].astype(str).str.startswith('19')) & (df['YEAR'].astype(str).str.startswith('2022'))]
pm_8_2022 = df[(df['TIME'].astype(str).str.startswith('20')) & (df['YEAR'].astype(str).str.startswith('2022'))]
pm_9_2022 = df[(df['TIME'].astype(str).str.startswith('21')) & (df['YEAR'].astype(str).str.startswith('2022'))]
pm_10_2022 = df[(df['TIME'].astype(str).str.startswith('22')) & (df['YEAR'].astype(str).str.startswith('2022'))]
pm_11_2022 = df[(df['TIME'].astype(str).str.startswith('23')) & (df['YEAR'].astype(str).str.startswith('2022'))]
pm_12_2022 = df[(df['TIME'].astype(str).str.startswith('24')) & (df['YEAR'].astype(str).str.startswith('2022'))]


pd.DataFrame({
    'Grand_Total_2022': [am_12_2022['GRAND_TOTAL'].sum(numeric_only=True),
                    am_1_2022['GRAND_TOTAL'].sum(numeric_only=True),
                    am_2_2022['GRAND_TOTAL'].sum(numeric_only=True),
                    am_3_2022['GRAND_TOTAL'].sum(numeric_only=True),
                    am_4_2022['GRAND_TOTAL'].sum(numeric_only=True),
                    am_5_2022['GRAND_TOTAL'].sum(numeric_only=True),
                    am_6_2022['GRAND_TOTAL'].sum(numeric_only=True),
                    am_7_2022['GRAND_TOTAL'].sum(numeric_only=True),
                    am_8_2022['GRAND_TOTAL'].sum(numeric_only=True),
                    am_9_2022['GRAND_TOTAL'].sum(numeric_only=True),
                    am_10_2022['GRAND_TOTAL'].sum(numeric_only=True),
                    am_11_2022['GRAND_TOTAL'].sum(numeric_only=True),
                    pm_12_2022['GRAND_TOTAL'].sum(numeric_only=True),
                    pm_1_2022['GRAND_TOTAL'].sum(numeric_only=True),
                    pm_2_2022['GRAND_TOTAL'].sum(numeric_only=True),
                    pm_3_2022['GRAND_TOTAL'].sum(numeric_only=True),
                    pm_4_2022['GRAND_TOTAL'].sum(numeric_only=True),
                    pm_5_2022['GRAND_TOTAL'].sum(numeric_only=True),
                    pm_6_2022['GRAND_TOTAL'].sum(numeric_only=True),
                    pm_7_2022['GRAND_TOTAL'].sum(numeric_only=True),
                    pm_8_2022['GRAND_TOTAL'].sum(numeric_only=True),
                    pm_9_2022['GRAND_TOTAL'].sum(numeric_only=True),
                    pm_10_2022['GRAND_TOTAL'].sum(numeric_only=True),
                    pm_11_2022['GRAND_TOTAL'].sum(numeric_only=True),
                    
]}, 
index = [f"{str(hour).zfill(2)}:00:00" for hour in range(1,25)
])


am_12_2023 = df[(df['TIME'].astype(str).str.startswith('00')) & (df['YEAR'].astype(str).str.startswith('2023'))]
am_1_2023 = df[(df['TIME'].astype(str).str.startswith('01')) & (df['YEAR'].astype(str).str.startswith('2023'))]
am_2_2023 = df[(df['TIME'].astype(str).str.startswith('02')) & (df['YEAR'].astype(str).str.startswith('2023'))]
am_3_2023 = df[(df['TIME'].astype(str).str.startswith('03')) & (df['YEAR'].astype(str).str.startswith('2023'))]
am_4_2023 = df[(df['TIME'].astype(str).str.startswith('04')) & (df['YEAR'].astype(str).str.startswith('2023'))]
am_5_2023 = df[(df['TIME'].astype(str).str.startswith('05')) & (df['YEAR'].astype(str).str.startswith('2023'))]
am_6_2023 = df[(df['TIME'].astype(str).str.startswith('06')) & (df['YEAR'].astype(str).str.startswith('2023'))]
am_7_2023 = df[(df['TIME'].astype(str).str.startswith('07')) & (df['YEAR'].astype(str).str.startswith('2023'))]
am_8_2023 = df[(df['TIME'].astype(str).str.startswith('08')) & (df['YEAR'].astype(str).str.startswith('2023'))]
am_9_2023 = df[(df['TIME'].astype(str).str.startswith('09')) & (df['YEAR'].astype(str).str.startswith('2023'))]
am_10_2023 = df[(df['TIME'].astype(str).str.startswith('10')) & (df['YEAR'].astype(str).str.startswith('2023'))]
am_11_2023 = df[(df['TIME'].astype(str).str.startswith('11')) & (df['YEAR'].astype(str).str.startswith('2023'))]
pm_1_2023 = df[(df['TIME'].astype(str).str.startswith('13')) & (df['YEAR'].astype(str).str.startswith('2023'))]
pm_2_2023 = df[(df['TIME'].astype(str).str.startswith('14')) & (df['YEAR'].astype(str).str.startswith('2023'))]
pm_3_2023 = df[(df['TIME'].astype(str).str.startswith('15')) & (df['YEAR'].astype(str).str.startswith('2023'))]
pm_4_2023 = df[(df['TIME'].astype(str).str.startswith('16')) & (df['YEAR'].astype(str).str.startswith('2023'))]
pm_5_2023 = df[(df['TIME'].astype(str).str.startswith('17')) & (df['YEAR'].astype(str).str.startswith('2023'))]
pm_6_2023 = df[(df['TIME'].astype(str).str.startswith('18')) & (df['YEAR'].astype(str).str.startswith('2023'))]
pm_7_2023 = df[(df['TIME'].astype(str).str.startswith('19')) & (df['YEAR'].astype(str).str.startswith('2023'))]
pm_8_2023 = df[(df['TIME'].astype(str).str.startswith('20')) & (df['YEAR'].astype(str).str.startswith('2023'))]
pm_9_2023 = df[(df['TIME'].astype(str).str.startswith('21')) & (df['YEAR'].astype(str).str.startswith('2023'))]
pm_10_2023 = df[(df['TIME'].astype(str).str.startswith('22')) & (df['YEAR'].astype(str).str.startswith('2023'))]
pm_11_2023 = df[(df['TIME'].astype(str).str.startswith('23')) & (df['YEAR'].astype(str).str.startswith('2023'))]
pm_12_2023 = df[(df['TIME'].astype(str).str.startswith('24')) & (df['YEAR'].astype(str).str.startswith('2023'))]


pd.DataFrame({
    'Grand_Total_2023': [am_12_2023['GRAND_TOTAL'].sum(numeric_only=True),
                    am_1_2023['GRAND_TOTAL'].sum(numeric_only=True),
                    am_2_2023['GRAND_TOTAL'].sum(numeric_only=True),
                    am_3_2023['GRAND_TOTAL'].sum(numeric_only=True),
                    am_4_2023['GRAND_TOTAL'].sum(numeric_only=True),
                    am_5_2023['GRAND_TOTAL'].sum(numeric_only=True),
                    am_6_2023['GRAND_TOTAL'].sum(numeric_only=True),
                    am_7_2023['GRAND_TOTAL'].sum(numeric_only=True),
                    am_8_2023['GRAND_TOTAL'].sum(numeric_only=True),
                    am_9_2023['GRAND_TOTAL'].sum(numeric_only=True),
                    am_10_2023['GRAND_TOTAL'].sum(numeric_only=True),
                    am_11_2023['GRAND_TOTAL'].sum(numeric_only=True),
                    pm_12_2023['GRAND_TOTAL'].sum(numeric_only=True),
                    pm_1_2023['GRAND_TOTAL'].sum(numeric_only=True),
                    pm_2_2023['GRAND_TOTAL'].sum(numeric_only=True),
                    pm_3_2023['GRAND_TOTAL'].sum(numeric_only=True),
                    pm_4_2023['GRAND_TOTAL'].sum(numeric_only=True),
                    pm_5_2023['GRAND_TOTAL'].sum(numeric_only=True),
                    pm_6_2023['GRAND_TOTAL'].sum(numeric_only=True),
                    pm_7_2023['GRAND_TOTAL'].sum(numeric_only=True),
                    pm_8_2023['GRAND_TOTAL'].sum(numeric_only=True),
                    pm_9_2023['GRAND_TOTAL'].sum(numeric_only=True),
                    pm_10_2023['GRAND_TOTAL'].sum(numeric_only=True),
                    pm_11_2023['GRAND_TOTAL'].sum(numeric_only=True)
                    
]}, 
index = [f"{str(hour).zfill(2)}:00:00" for hour in range(0,24)
])


am_12_2024 = df[(df['TIME'].astype(str).str.startswith('00')) & (df['YEAR'].astype(str).str.startswith('2024'))]
am_1_2024 = df[(df['TIME'].astype(str).str.startswith('01')) & (df['YEAR'].astype(str).str.startswith('2024'))]
am_2_2024 = df[(df['TIME'].astype(str).str.startswith('02')) & (df['YEAR'].astype(str).str.startswith('2024'))]
am_3_2024 = df[(df['TIME'].astype(str).str.startswith('03')) & (df['YEAR'].astype(str).str.startswith('2024'))]
am_4_2024 = df[(df['TIME'].astype(str).str.startswith('04')) & (df['YEAR'].astype(str).str.startswith('2024'))]
am_5_2024 = df[(df['TIME'].astype(str).str.startswith('05')) & (df['YEAR'].astype(str).str.startswith('2024'))]
am_6_2024 = df[(df['TIME'].astype(str).str.startswith('06')) & (df['YEAR'].astype(str).str.startswith('2024'))]
am_7_2024 = df[(df['TIME'].astype(str).str.startswith('07')) & (df['YEAR'].astype(str).str.startswith('2024'))]
am_8_2024 = df[(df['TIME'].astype(str).str.startswith('08')) & (df['YEAR'].astype(str).str.startswith('2024'))]
am_9_2024 = df[(df['TIME'].astype(str).str.startswith('09')) & (df['YEAR'].astype(str).str.startswith('2024'))]
am_10_2024 = df[(df['TIME'].astype(str).str.startswith('10')) & (df['YEAR'].astype(str).str.startswith('2024'))]
am_11_2024 = df[(df['TIME'].astype(str).str.startswith('11')) & (df['YEAR'].astype(str).str.startswith('2024'))]
pm_1_2024 = df[(df['TIME'].astype(str).str.startswith('13')) & (df['YEAR'].astype(str).str.startswith('2024'))]
pm_2_2024 = df[(df['TIME'].astype(str).str.startswith('14')) & (df['YEAR'].astype(str).str.startswith('2024'))]
pm_3_2024 = df[(df['TIME'].astype(str).str.startswith('15')) & (df['YEAR'].astype(str).str.startswith('2024'))]
pm_4_2024 = df[(df['TIME'].astype(str).str.startswith('16')) & (df['YEAR'].astype(str).str.startswith('2024'))]
pm_5_2024 = df[(df['TIME'].astype(str).str.startswith('17')) & (df['YEAR'].astype(str).str.startswith('2024'))]
pm_6_2024 = df[(df['TIME'].astype(str).str.startswith('18')) & (df['YEAR'].astype(str).str.startswith('2024'))]
pm_7_2024 = df[(df['TIME'].astype(str).str.startswith('19')) & (df['YEAR'].astype(str).str.startswith('2024'))]
pm_8_2024 = df[(df['TIME'].astype(str).str.startswith('20')) & (df['YEAR'].astype(str).str.startswith('2024'))]
pm_9_2024 = df[(df['TIME'].astype(str).str.startswith('21')) & (df['YEAR'].astype(str).str.startswith('2024'))]
pm_10_2024 = df[(df['TIME'].astype(str).str.startswith('22')) & (df['YEAR'].astype(str).str.startswith('2024'))]
pm_11_2024 = df[(df['TIME'].astype(str).str.startswith('23')) & (df['YEAR'].astype(str).str.startswith('2024'))]
pm_12_2024 = df[(df['TIME'].astype(str).str.startswith('24')) & (df['YEAR'].astype(str).str.startswith('2024'))]


pd.DataFrame({
    'Grand_Total_2024': [am_12_2024['GRAND_TOTAL'].sum(numeric_only=True),
                    am_1_2024['GRAND_TOTAL'].sum(numeric_only=True),
                    am_2_2024['GRAND_TOTAL'].sum(numeric_only=True),
                    am_3_2024['GRAND_TOTAL'].sum(numeric_only=True),
                    am_4_2024['GRAND_TOTAL'].sum(numeric_only=True),
                    am_5_2024['GRAND_TOTAL'].sum(numeric_only=True),
                    am_6_2024['GRAND_TOTAL'].sum(numeric_only=True),
                    am_7_2024['GRAND_TOTAL'].sum(numeric_only=True),
                    am_8_2024['GRAND_TOTAL'].sum(numeric_only=True),
                    am_9_2024['GRAND_TOTAL'].sum(numeric_only=True),
                    am_10_2024['GRAND_TOTAL'].sum(numeric_only=True),
                    am_11_2024['GRAND_TOTAL'].sum(numeric_only=True),
                    pm_12_2024['GRAND_TOTAL'].sum(numeric_only=True),
                    pm_1_2024['GRAND_TOTAL'].sum(numeric_only=True),
                    pm_2_2024['GRAND_TOTAL'].sum(numeric_only=True),
                    pm_3_2024['GRAND_TOTAL'].sum(numeric_only=True),
                    pm_4_2024['GRAND_TOTAL'].sum(numeric_only=True),
                    pm_5_2024['GRAND_TOTAL'].sum(numeric_only=True),
                    pm_6_2024['GRAND_TOTAL'].sum(numeric_only=True),
                    pm_7_2024['GRAND_TOTAL'].sum(numeric_only=True),
                    pm_8_2024['GRAND_TOTAL'].sum(numeric_only=True),
                    pm_9_2024['GRAND_TOTAL'].sum(numeric_only=True),
                    pm_10_2024['GRAND_TOTAL'].sum(numeric_only=True),
                    pm_11_2024['GRAND_TOTAL'].sum(numeric_only=True)
                    
]}, 
index = [f"{str(hour).zfill(2)}:00:00" for hour in range(0,24)
])


by_month = df.groupby('MONTH').sum(numeric_only=True)
by_month1_2022 = df[(df['YEAR'].astype(str).str.startswith("2022")) & (df['MONTH'].astype(str).str.startswith('01'))]
by_month2_2022 = df[(df['YEAR'].astype(str).str.startswith("2022")) & (df['MONTH'].astype(str).str.startswith('02'))]
by_month3_2022 = df[(df['YEAR'].astype(str).str.startswith("2022")) & (df['MONTH'].astype(str).str.startswith('03'))]
by_month4_2022 = df[(df['YEAR'].astype(str).str.startswith("2022")) & (df['MONTH'].astype(str).str.startswith('04'))]
by_month5_2022 = df[(df['YEAR'].astype(str).str.startswith("2022")) & (df['MONTH'].astype(str).str.startswith('05'))]
by_month6_2022 = df[(df['YEAR'].astype(str).str.startswith("2022")) & (df['MONTH'].astype(str).str.startswith('06'))]
by_month7_2022 = df[(df['YEAR'].astype(str).str.startswith("2022")) & (df['MONTH'].astype(str).str.startswith('07'))]
by_month8_2022 = df[(df['YEAR'].astype(str).str.startswith("2022")) & (df['MONTH'].astype(str).str.startswith('08'))]
by_month9_2022 = df[(df['YEAR'].astype(str).str.startswith("2022")) & (df['MONTH'].astype(str).str.startswith('09'))]
by_month10_2022 = df[(df['YEAR'].astype(str).str.startswith("2022")) & (df['MONTH'].astype(str).str.startswith('10'))]
by_month11_2022 = df[(df['YEAR'].astype(str).str.startswith("2022")) & (df['MONTH'].astype(str).str.startswith('11'))]
by_month12_2022 = df[(df['YEAR'].astype(str).str.startswith("2022")) & (df['MONTH'].astype(str).str.startswith('12'))]


by_month_2022 = pd.DataFrame(
    {
    'Raw_Sales_By_Month': 
    [
             by_month1_2022['GRAND_TOTAL'].sum(numeric_only=True),
             by_month2_2022['GRAND_TOTAL'].sum(numeric_only=True),
             by_month3_2022['GRAND_TOTAL'].sum(numeric_only=True),
             by_month4_2022['GRAND_TOTAL'].sum(numeric_only=True),
             by_month5_2022['GRAND_TOTAL'].sum(numeric_only=True),
             by_month6_2022['GRAND_TOTAL'].sum(numeric_only=True),
             by_month7_2022['GRAND_TOTAL'].sum(numeric_only=True),
             by_month8_2022['GRAND_TOTAL'].sum(numeric_only=True),
             by_month9_2022['GRAND_TOTAL'].sum(numeric_only=True),
             by_month10_2022['GRAND_TOTAL'].sum(numeric_only=True),
             by_month11_2022['GRAND_TOTAL'].sum(numeric_only=True),
             by_month12_2022['GRAND_TOTAL'].sum(numeric_only=True)
    ]
    },
index = [month for month in range(1,13)]
)

by_month_2022['%'] = by_month_2022.apply(lambda row: (row / by_month_2022['Raw_Sales_By_Month'].sum()) * 100, axis = 1)
by_month_2022


by_month1_2023 = df[(df['YEAR'].astype(str).str.startswith("2023")) & (df['MONTH'].astype(str).str.startswith('01'))]
by_month2_2023 = df[(df['YEAR'].astype(str).str.startswith("2023")) & (df['MONTH'].astype(str).str.startswith('02'))]
by_month3_2023 = df[(df['YEAR'].astype(str).str.startswith("2023")) & (df['MONTH'].astype(str).str.startswith('03'))]
by_month4_2023 = df[(df['YEAR'].astype(str).str.startswith("2023")) & (df['MONTH'].astype(str).str.startswith('04'))]
by_month5_2023 = df[(df['YEAR'].astype(str).str.startswith("2023")) & (df['MONTH'].astype(str).str.startswith('05'))]
by_month6_2023 = df[(df['YEAR'].astype(str).str.startswith("2023")) & (df['MONTH'].astype(str).str.startswith('06'))]
by_month7_2023 = df[(df['YEAR'].astype(str).str.startswith("2023")) & (df['MONTH'].astype(str).str.startswith('07'))]
by_month8_2023 = df[(df['YEAR'].astype(str).str.startswith("2023")) & (df['MONTH'].astype(str).str.startswith('08'))]
by_month9_2023 = df[(df['YEAR'].astype(str).str.startswith("2023")) & (df['MONTH'].astype(str).str.startswith('09'))]
by_month10_2023 = df[(df['YEAR'].astype(str).str.startswith("2023")) & (df['MONTH'].astype(str).str.startswith('10'))]
by_month11_2023 = df[(df['YEAR'].astype(str).str.startswith("2023")) & (df['MONTH'].astype(str).str.startswith('11'))]
by_month12_2023 = df[(df['YEAR'].astype(str).str.startswith("2023")) & (df['MONTH'].astype(str).str.startswith('12'))]


by_month_2023 = pd.DataFrame(
    {
    'Raw_Sales_By_Month': 
    [
             by_month1_2023['GRAND_TOTAL'].sum(numeric_only=True),
             by_month2_2023['GRAND_TOTAL'].sum(numeric_only=True),
             by_month3_2023['GRAND_TOTAL'].sum(numeric_only=True),
             by_month4_2023['GRAND_TOTAL'].sum(numeric_only=True),
             by_month5_2023['GRAND_TOTAL'].sum(numeric_only=True),
             by_month6_2023['GRAND_TOTAL'].sum(numeric_only=True),
             by_month7_2023['GRAND_TOTAL'].sum(numeric_only=True),
             by_month8_2023['GRAND_TOTAL'].sum(numeric_only=True),
             by_month9_2023['GRAND_TOTAL'].sum(numeric_only=True),
             by_month10_2023['GRAND_TOTAL'].sum(numeric_only=True),
             by_month11_2023['GRAND_TOTAL'].sum(numeric_only=True),
             by_month12_2023['GRAND_TOTAL'].sum(numeric_only=True)
    ]
    },
index = [month for month in range(1,13)]
)
by_month_2023['%'] = by_month_2023.apply(lambda row: (row / by_month_2023['Raw_Sales_By_Month'].sum()) * 100, axis = 1)
by_month_2023


by_month1_2024 = df[(df['YEAR'].astype(str).str.startswith("2024")) & (df['MONTH'].astype(str).str.startswith('01'))]
by_month2_2024 = df[(df['YEAR'].astype(str).str.startswith("2024")) & (df['MONTH'].astype(str).str.startswith('02'))]
by_month3_2024 = df[(df['YEAR'].astype(str).str.startswith("2024")) & (df['MONTH'].astype(str).str.startswith('03'))]
by_month4_2024 = df[(df['YEAR'].astype(str).str.startswith("2024")) & (df['MONTH'].astype(str).str.startswith('04'))]
by_month5_2024 = df[(df['YEAR'].astype(str).str.startswith("2024")) & (df['MONTH'].astype(str).str.startswith('05'))]
by_month6_2024 = df[(df['YEAR'].astype(str).str.startswith("2024")) & (df['MONTH'].astype(str).str.startswith('06'))]
by_month7_2024 = df[(df['YEAR'].astype(str).str.startswith("2024")) & (df['MONTH'].astype(str).str.startswith('07'))]
by_month8_2024 = df[(df['YEAR'].astype(str).str.startswith("2024")) & (df['MONTH'].astype(str).str.startswith('08'))]
by_month9_2024 = df[(df['YEAR'].astype(str).str.startswith("2024")) & (df['MONTH'].astype(str).str.startswith('09'))]
by_month10_2024 = df[(df['YEAR'].astype(str).str.startswith("2024")) & (df['MONTH'].astype(str).str.startswith('10'))]
by_month11_2024 = df[(df['YEAR'].astype(str).str.startswith("2024")) & (df['MONTH'].astype(str).str.startswith('11'))]
by_month12_2024 = df[(df['YEAR'].astype(str).str.startswith("2024")) & (df['MONTH'].astype(str).str.startswith('12'))]


by_month_2024 = pd.DataFrame(
    {
    'Raw_Sales_By_Month': 
    [
             by_month1_2024['GRAND_TOTAL'].sum(numeric_only=True),
             by_month2_2024['GRAND_TOTAL'].sum(numeric_only=True),
             by_month3_2024['GRAND_TOTAL'].sum(numeric_only=True),
             by_month4_2024['GRAND_TOTAL'].sum(numeric_only=True),
             by_month5_2024['GRAND_TOTAL'].sum(numeric_only=True),
             by_month6_2024['GRAND_TOTAL'].sum(numeric_only=True),
             by_month7_2024['GRAND_TOTAL'].sum(numeric_only=True),
             by_month8_2024['GRAND_TOTAL'].sum(numeric_only=True),
             by_month9_2024['GRAND_TOTAL'].sum(numeric_only=True),
             by_month10_2024['GRAND_TOTAL'].sum(numeric_only=True),
             by_month11_2024['GRAND_TOTAL'].sum(numeric_only=True),
             by_month12_2024['GRAND_TOTAL'].sum(numeric_only=True)
    ]
    },
index = [month for month in range(1,13)]
)

by_month_2024['%'] = by_month_2024.apply(lambda row: (row / by_month_2024['Raw_Sales_By_Month'].sum()) * 100, axis = 1)
by_month_2024






