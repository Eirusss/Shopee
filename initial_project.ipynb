{
 "cells": [
  {
   "cell_type": "code",
   "execution_count": 51,
   "id": "0e292650-97fa-4005-b76a-2bb9841666e7",
   "metadata": {},
   "outputs": [
    {
     "ename": "ImportError",
     "evalue": "cannot import name 'Axes' from 'matplotlib.axes' (unknown location)",
     "output_type": "error",
     "traceback": [
      "\u001b[1;31m---------------------------------------------------------------------------\u001b[0m",
      "\u001b[1;31mImportError\u001b[0m                               Traceback (most recent call last)",
      "Cell \u001b[1;32mIn[51], line 4\u001b[0m\n\u001b[0;32m      2\u001b[0m \u001b[38;5;28;01mimport\u001b[39;00m \u001b[38;5;21;01mpandas\u001b[39;00m \u001b[38;5;28;01mas\u001b[39;00m \u001b[38;5;21;01mpd\u001b[39;00m\n\u001b[0;32m      3\u001b[0m \u001b[38;5;28;01mimport\u001b[39;00m \u001b[38;5;21;01mos\u001b[39;00m\n\u001b[1;32m----> 4\u001b[0m \u001b[38;5;28;01mimport\u001b[39;00m \u001b[38;5;21;01mmatplotlib\u001b[39;00m\u001b[38;5;21;01m.\u001b[39;00m\u001b[38;5;21;01mpyplot\u001b[39;00m \u001b[38;5;28;01mas\u001b[39;00m \u001b[38;5;21;01mplt\u001b[39;00m\n\u001b[0;32m      6\u001b[0m pd\u001b[38;5;241m.\u001b[39mset_option(\u001b[38;5;124m'\u001b[39m\u001b[38;5;124mdisplay.max_rows\u001b[39m\u001b[38;5;124m'\u001b[39m, \u001b[38;5;28;01mNone\u001b[39;00m)\n\u001b[0;32m      7\u001b[0m pd\u001b[38;5;241m.\u001b[39mset_option(\u001b[38;5;124m'\u001b[39m\u001b[38;5;124mdisplay.max_columns\u001b[39m\u001b[38;5;124m'\u001b[39m, \u001b[38;5;28;01mNone\u001b[39;00m)\n",
      "File \u001b[1;32m~\\anaconda3\\Lib\\site-packages\\matplotlib\\pyplot.py:66\u001b[0m\n\u001b[0;32m     63\u001b[0m \u001b[38;5;28;01mfrom\u001b[39;00m \u001b[38;5;21;01mmatplotlib\u001b[39;00m \u001b[38;5;28;01mimport\u001b[39;00m _docstring\n\u001b[0;32m     64\u001b[0m \u001b[38;5;28;01mfrom\u001b[39;00m \u001b[38;5;21;01mmatplotlib\u001b[39;00m\u001b[38;5;21;01m.\u001b[39;00m\u001b[38;5;21;01mbackend_bases\u001b[39;00m \u001b[38;5;28;01mimport\u001b[39;00m (\n\u001b[0;32m     65\u001b[0m     FigureCanvasBase, FigureManagerBase, MouseButton)\n\u001b[1;32m---> 66\u001b[0m \u001b[38;5;28;01mfrom\u001b[39;00m \u001b[38;5;21;01mmatplotlib\u001b[39;00m\u001b[38;5;21;01m.\u001b[39;00m\u001b[38;5;21;01mfigure\u001b[39;00m \u001b[38;5;28;01mimport\u001b[39;00m Figure, FigureBase, figaspect\n\u001b[0;32m     67\u001b[0m \u001b[38;5;28;01mfrom\u001b[39;00m \u001b[38;5;21;01mmatplotlib\u001b[39;00m\u001b[38;5;21;01m.\u001b[39;00m\u001b[38;5;21;01mgridspec\u001b[39;00m \u001b[38;5;28;01mimport\u001b[39;00m GridSpec, SubplotSpec\n\u001b[0;32m     68\u001b[0m \u001b[38;5;28;01mfrom\u001b[39;00m \u001b[38;5;21;01mmatplotlib\u001b[39;00m \u001b[38;5;28;01mimport\u001b[39;00m rcsetup, rcParamsDefault, rcParamsOrig\n",
      "File \u001b[1;32m~\\anaconda3\\Lib\\site-packages\\matplotlib\\figure.py:43\u001b[0m\n\u001b[0;32m     40\u001b[0m \u001b[38;5;28;01mimport\u001b[39;00m \u001b[38;5;21;01mnumpy\u001b[39;00m \u001b[38;5;28;01mas\u001b[39;00m \u001b[38;5;21;01mnp\u001b[39;00m\n\u001b[0;32m     42\u001b[0m \u001b[38;5;28;01mimport\u001b[39;00m \u001b[38;5;21;01mmatplotlib\u001b[39;00m \u001b[38;5;28;01mas\u001b[39;00m \u001b[38;5;21;01mmpl\u001b[39;00m\n\u001b[1;32m---> 43\u001b[0m \u001b[38;5;28;01mfrom\u001b[39;00m \u001b[38;5;21;01mmatplotlib\u001b[39;00m \u001b[38;5;28;01mimport\u001b[39;00m _blocking_input, backend_bases, _docstring, projections\n\u001b[0;32m     44\u001b[0m \u001b[38;5;28;01mfrom\u001b[39;00m \u001b[38;5;21;01mmatplotlib\u001b[39;00m\u001b[38;5;21;01m.\u001b[39;00m\u001b[38;5;21;01martist\u001b[39;00m \u001b[38;5;28;01mimport\u001b[39;00m (\n\u001b[0;32m     45\u001b[0m     Artist, allow_rasterization, _finalize_rasterization)\n\u001b[0;32m     46\u001b[0m \u001b[38;5;28;01mfrom\u001b[39;00m \u001b[38;5;21;01mmatplotlib\u001b[39;00m\u001b[38;5;21;01m.\u001b[39;00m\u001b[38;5;21;01mbackend_bases\u001b[39;00m \u001b[38;5;28;01mimport\u001b[39;00m (\n\u001b[0;32m     47\u001b[0m     DrawEvent, FigureCanvasBase, NonGuiException, MouseButton, _get_renderer)\n",
      "File \u001b[1;32m~\\anaconda3\\Lib\\site-packages\\matplotlib\\projections\\__init__.py:56\u001b[0m\n\u001b[0;32m      1\u001b[0m \u001b[38;5;124;03m\"\"\"\u001b[39;00m\n\u001b[0;32m      2\u001b[0m \u001b[38;5;124;03mNon-separable transforms that map from data space to screen space.\u001b[39;00m\n\u001b[0;32m      3\u001b[0m \n\u001b[1;32m   (...)\u001b[0m\n\u001b[0;32m     52\u001b[0m \u001b[38;5;124;03m`matplotlib.projections.polar` may also be of interest.\u001b[39;00m\n\u001b[0;32m     53\u001b[0m \u001b[38;5;124;03m\"\"\"\u001b[39;00m\n\u001b[0;32m     55\u001b[0m \u001b[38;5;28;01mfrom\u001b[39;00m \u001b[38;5;21;01m.\u001b[39;00m\u001b[38;5;21;01m.\u001b[39;00m \u001b[38;5;28;01mimport\u001b[39;00m axes, _docstring\n\u001b[1;32m---> 56\u001b[0m \u001b[38;5;28;01mfrom\u001b[39;00m \u001b[38;5;21;01m.\u001b[39;00m\u001b[38;5;21;01mgeo\u001b[39;00m \u001b[38;5;28;01mimport\u001b[39;00m AitoffAxes, HammerAxes, LambertAxes, MollweideAxes\n\u001b[0;32m     57\u001b[0m \u001b[38;5;28;01mfrom\u001b[39;00m \u001b[38;5;21;01m.\u001b[39;00m\u001b[38;5;21;01mpolar\u001b[39;00m \u001b[38;5;28;01mimport\u001b[39;00m PolarAxes\n\u001b[0;32m     59\u001b[0m \u001b[38;5;28;01mtry\u001b[39;00m:\n",
      "File \u001b[1;32m~\\anaconda3\\Lib\\site-packages\\matplotlib\\projections\\geo.py:5\u001b[0m\n\u001b[0;32m      3\u001b[0m \u001b[38;5;28;01mimport\u001b[39;00m \u001b[38;5;21;01mmatplotlib\u001b[39;00m \u001b[38;5;28;01mas\u001b[39;00m \u001b[38;5;21;01mmpl\u001b[39;00m\n\u001b[0;32m      4\u001b[0m \u001b[38;5;28;01mfrom\u001b[39;00m \u001b[38;5;21;01mmatplotlib\u001b[39;00m \u001b[38;5;28;01mimport\u001b[39;00m _api\n\u001b[1;32m----> 5\u001b[0m \u001b[38;5;28;01mfrom\u001b[39;00m \u001b[38;5;21;01mmatplotlib\u001b[39;00m\u001b[38;5;21;01m.\u001b[39;00m\u001b[38;5;21;01maxes\u001b[39;00m \u001b[38;5;28;01mimport\u001b[39;00m Axes\n\u001b[0;32m      6\u001b[0m \u001b[38;5;28;01mimport\u001b[39;00m \u001b[38;5;21;01mmatplotlib\u001b[39;00m\u001b[38;5;21;01m.\u001b[39;00m\u001b[38;5;21;01maxis\u001b[39;00m \u001b[38;5;28;01mas\u001b[39;00m \u001b[38;5;21;01mmaxis\u001b[39;00m\n\u001b[0;32m      7\u001b[0m \u001b[38;5;28;01mfrom\u001b[39;00m \u001b[38;5;21;01mmatplotlib\u001b[39;00m\u001b[38;5;21;01m.\u001b[39;00m\u001b[38;5;21;01mpatches\u001b[39;00m \u001b[38;5;28;01mimport\u001b[39;00m Circle\n",
      "\u001b[1;31mImportError\u001b[0m: cannot import name 'Axes' from 'matplotlib.axes' (unknown location)"
     ]
    }
   ],
   "source": [
    "import numpy as np\n",
    "import pandas as pd\n",
    "import os\n",
    "import matplotlib.pyplot as plt\n",
    "\n",
    "pd.set_option('display.max_rows', None)\n",
    "pd.set_option('display.max_columns', None)\n",
    "\n",
    "%matplotlib inline"
   ]
  },
  {
   "cell_type": "code",
   "execution_count": 53,
   "id": "9c8ff993-bbc0-47b9-91c5-add955ecdd67",
   "metadata": {},
   "outputs": [],
   "source": [
    "#file://localhost/path/to/table.csv\n",
    "df = pd.read_csv('allv2_csv.csv')"
   ]
  },
  {
   "cell_type": "code",
   "execution_count": 55,
   "id": "dd208479-5806-4b3f-ae2f-785e47b345fb",
   "metadata": {},
   "outputs": [],
   "source": [
    "df.columns = df.columns.str.upper()"
   ]
  },
  {
   "cell_type": "code",
   "execution_count": 57,
   "id": "d03fd364-3b53-4c8b-9b0a-5ae05b9f535e",
   "metadata": {
    "editable": true,
    "scrolled": true,
    "slideshow": {
     "slide_type": ""
    },
    "tags": []
   },
   "outputs": [
    {
     "data": {
      "text/plain": [
       "SOURCE.NAME                       object\n",
       "ORDER ID                          object\n",
       "ORDER STATUS                      object\n",
       "RETURN / REFUND STATUS            object\n",
       "TRACKING NUMBER*                  object\n",
       "SHIPPING OPTION                   object\n",
       "SHIPMENT METHOD                   object\n",
       "ESTIMATED SHIP OUT DATE           object\n",
       "SHIP TIME                         object\n",
       "ORDER CREATION DATE               object\n",
       "ORDER PAID TIME                   object\n",
       "PARENT SKU REFERENCE NO.         float64\n",
       "PRODUCT NAME                      object\n",
       "SKU REFERENCE NO.                float64\n",
       "VARIATION NAME                    object\n",
       "ORIGINAL PRICE                     int64\n",
       "DEAL PRICE                         int64\n",
       "QUANTITY                           int64\n",
       "RETURNED QUANTITY                float64\n",
       "PRODUCT SUBTOTAL                   int64\n",
       "TOTAL DISCOUNT                     int64\n",
       "PRICE DISCOUNT(FROM SELLER)        int64\n",
       "SHOPEE REBATE                      int64\n",
       "SKU TOTAL WEIGHT                 float64\n",
       "NUMBER OF ITEMS IN ORDER           int64\n",
       "ORDER TOTAL WEIGHT               float64\n",
       "SELLER VOUCHER                     int64\n",
       "SELLER ABSORBED COIN CASHBACK      int64\n",
       "SHOPEE VOUCHER                     int64\n",
       "BUNDLE DEALS INDICATOR(Y/N)       object\n",
       "SHOPEE BUNDLE DISCOUNT             int64\n",
       "SELLER BUNDLE DISCOUNT             int64\n",
       "SHOPEE COINS OFFSET                int64\n",
       "CREDIT CARD DISCOUNT TOTAL         int64\n",
       "PRODUCTS' PRICE PAID BY BUYER      int64\n",
       "BUYER PAID SHIPPING FEE            int64\n",
       "SHIPPING REBATE ESTIMATE           int64\n",
       "REVERSE SHIPPING FEE               int64\n",
       "SERVICE FEE                        int64\n",
       "GRAND TOTAL                        int64\n",
       "ESTIMATED SHIPPING FEE             int64\n",
       "USERNAME                          object\n",
       "RECEIVER NAME                     object\n",
       "PHONE NUMBER                      object\n",
       "DELIVERY ADDRESS                  object\n",
       "TOWN                              object\n",
       "DISTRICT                          object\n",
       "CITY                              object\n",
       "PROVINCE                          object\n",
       "COUNTRY                           object\n",
       "ZIP CODE                           int64\n",
       "REMARK FROM BUYER                 object\n",
       "ORDER COMPLETE TIME               object\n",
       "NOTE                             float64\n",
       "dtype: object"
      ]
     },
     "execution_count": 57,
     "metadata": {},
     "output_type": "execute_result"
    }
   ],
   "source": [
    "df.columns = df.columns.str.replace(r'\\s*\\(PHP\\)', '', regex = True)\n",
    "df.columns = df.columns.str.replace(r'\\s*\\(BUYER\\)', '', regex = True)\n",
    "df.dtypes"
   ]
  },
  {
   "cell_type": "code",
   "execution_count": 59,
   "id": "2024f2e1-cb54-47b7-a513-85edda82ddf3",
   "metadata": {},
   "outputs": [
    {
     "name": "stderr",
     "output_type": "stream",
     "text": [
      "C:\\Users\\Joshua Eirus Candido\\AppData\\Local\\Temp\\ipykernel_34056\\3214188911.py:1: UserWarning: Parsing dates in %d/%m/%Y %H:%M format when dayfirst=False (the default) was specified. Pass `dayfirst=True` or specify a format to silence this warning.\n",
      "  df['ORDER CREATION DATE'] = pd.to_datetime(df['ORDER CREATION DATE'])\n"
     ]
    }
   ],
   "source": [
    "df['ORDER CREATION DATE'] = pd.to_datetime(df['ORDER CREATION DATE'])\n",
    "df['date'] = df['ORDER CREATION DATE'].dt.date\n",
    "df.set_index('date', inplace = True)"
   ]
  },
  {
   "cell_type": "code",
   "execution_count": 61,
   "id": "8f7fb2fd-bb48-4f1d-87e5-1a9c52d17e5e",
   "metadata": {},
   "outputs": [
    {
     "data": {
      "text/html": [
       "<div>\n",
       "<style scoped>\n",
       "    .dataframe tbody tr th:only-of-type {\n",
       "        vertical-align: middle;\n",
       "    }\n",
       "\n",
       "    .dataframe tbody tr th {\n",
       "        vertical-align: top;\n",
       "    }\n",
       "\n",
       "    .dataframe thead th {\n",
       "        text-align: right;\n",
       "    }\n",
       "</style>\n",
       "<table border=\"1\" class=\"dataframe\">\n",
       "  <thead>\n",
       "    <tr style=\"text-align: right;\">\n",
       "      <th></th>\n",
       "      <th>SOURCE.NAME</th>\n",
       "      <th>ORDER ID</th>\n",
       "      <th>ORDER STATUS</th>\n",
       "      <th>RETURN / REFUND STATUS</th>\n",
       "      <th>TRACKING NUMBER*</th>\n",
       "      <th>SHIPPING OPTION</th>\n",
       "      <th>SHIPMENT METHOD</th>\n",
       "      <th>ESTIMATED SHIP OUT DATE</th>\n",
       "      <th>SHIP TIME</th>\n",
       "      <th>ORDER CREATION DATE</th>\n",
       "      <th>...</th>\n",
       "      <th>DELIVERY ADDRESS</th>\n",
       "      <th>TOWN</th>\n",
       "      <th>DISTRICT</th>\n",
       "      <th>CITY</th>\n",
       "      <th>PROVINCE</th>\n",
       "      <th>COUNTRY</th>\n",
       "      <th>ZIP CODE</th>\n",
       "      <th>REMARK FROM BUYER</th>\n",
       "      <th>ORDER COMPLETE TIME</th>\n",
       "      <th>NOTE</th>\n",
       "    </tr>\n",
       "    <tr>\n",
       "      <th>date</th>\n",
       "      <th></th>\n",
       "      <th></th>\n",
       "      <th></th>\n",
       "      <th></th>\n",
       "      <th></th>\n",
       "      <th></th>\n",
       "      <th></th>\n",
       "      <th></th>\n",
       "      <th></th>\n",
       "      <th></th>\n",
       "      <th></th>\n",
       "      <th></th>\n",
       "      <th></th>\n",
       "      <th></th>\n",
       "      <th></th>\n",
       "      <th></th>\n",
       "      <th></th>\n",
       "      <th></th>\n",
       "      <th></th>\n",
       "      <th></th>\n",
       "      <th></th>\n",
       "    </tr>\n",
       "  </thead>\n",
       "  <tbody>\n",
       "    <tr>\n",
       "      <th>2022-10-26</th>\n",
       "      <td>2022_10_sales.xlsx</td>\n",
       "      <td>221026EG38031S</td>\n",
       "      <td>Completed</td>\n",
       "      <td>NaN</td>\n",
       "      <td>785348988418</td>\n",
       "      <td>Standard Local-J&amp;T Express</td>\n",
       "      <td>pickup</td>\n",
       "      <td>28/10/2022 23:55</td>\n",
       "      <td>27/10/2022 17:04</td>\n",
       "      <td>2022-10-26 23:45:00</td>\n",
       "      <td>...</td>\n",
       "      <td>******alon Dos, Las Pinas City, Metro Manila, ...</td>\n",
       "      <td>Talon Dos</td>\n",
       "      <td>Las Pinas City</td>\n",
       "      <td>Metro Manila</td>\n",
       "      <td>Metro Manila</td>\n",
       "      <td>PH</td>\n",
       "      <td>1740</td>\n",
       "      <td>NaN</td>\n",
       "      <td>28/10/2022 12:54</td>\n",
       "      <td>NaN</td>\n",
       "    </tr>\n",
       "    <tr>\n",
       "      <th>2022-11-11</th>\n",
       "      <td>2022_11_sales.xlsx</td>\n",
       "      <td>221111Q4W4YN38</td>\n",
       "      <td>Completed</td>\n",
       "      <td>NaN</td>\n",
       "      <td>785405295326</td>\n",
       "      <td>Standard Local-J&amp;T Express</td>\n",
       "      <td>pickup</td>\n",
       "      <td>15/11/2022 0:06</td>\n",
       "      <td>11/11/2022 18:42</td>\n",
       "      <td>2022-11-11 00:05:00</td>\n",
       "      <td>...</td>\n",
       "      <td>******view, Quezon City, Metro Manila, Metro M...</td>\n",
       "      <td>North Fairview</td>\n",
       "      <td>Quezon City</td>\n",
       "      <td>Metro Manila</td>\n",
       "      <td>Metro Manila</td>\n",
       "      <td>PH</td>\n",
       "      <td>1121</td>\n",
       "      <td>NaN</td>\n",
       "      <td>12/11/2022 17:17</td>\n",
       "      <td>NaN</td>\n",
       "    </tr>\n",
       "    <tr>\n",
       "      <th>2022-11-11</th>\n",
       "      <td>2022_11_sales.xlsx</td>\n",
       "      <td>221111Q4W4YN38</td>\n",
       "      <td>Completed</td>\n",
       "      <td>NaN</td>\n",
       "      <td>785405295326</td>\n",
       "      <td>Standard Local-J&amp;T Express</td>\n",
       "      <td>pickup</td>\n",
       "      <td>15/11/2022 0:06</td>\n",
       "      <td>11/11/2022 18:42</td>\n",
       "      <td>2022-11-11 00:05:00</td>\n",
       "      <td>...</td>\n",
       "      <td>******view, Quezon City, Metro Manila, Metro M...</td>\n",
       "      <td>North Fairview</td>\n",
       "      <td>Quezon City</td>\n",
       "      <td>Metro Manila</td>\n",
       "      <td>Metro Manila</td>\n",
       "      <td>PH</td>\n",
       "      <td>1121</td>\n",
       "      <td>NaN</td>\n",
       "      <td>12/11/2022 17:17</td>\n",
       "      <td>NaN</td>\n",
       "    </tr>\n",
       "    <tr>\n",
       "      <th>2022-11-12</th>\n",
       "      <td>2022_11_sales.xlsx</td>\n",
       "      <td>221112TM4AEEYV</td>\n",
       "      <td>Completed</td>\n",
       "      <td>NaN</td>\n",
       "      <td>785419262092</td>\n",
       "      <td>Standard Local-J&amp;T Express</td>\n",
       "      <td>pickup</td>\n",
       "      <td>15/11/2022 9:26</td>\n",
       "      <td>12/11/2022 18:30</td>\n",
       "      <td>2022-11-12 09:16:00</td>\n",
       "      <td>...</td>\n",
       "      <td>******Marilao Bulacan, Loma De Gato, Marilao, ...</td>\n",
       "      <td>Loma De Gato</td>\n",
       "      <td>Marilao</td>\n",
       "      <td>Bulacan</td>\n",
       "      <td>North Luzon</td>\n",
       "      <td>PH</td>\n",
       "      <td>3019</td>\n",
       "      <td>NaN</td>\n",
       "      <td>13/11/2022 17:49</td>\n",
       "      <td>NaN</td>\n",
       "    </tr>\n",
       "    <tr>\n",
       "      <th>2022-11-12</th>\n",
       "      <td>2022_11_sales.xlsx</td>\n",
       "      <td>221112TJESN7AE</td>\n",
       "      <td>Completed</td>\n",
       "      <td>NaN</td>\n",
       "      <td>785419084505</td>\n",
       "      <td>Standard Local-J&amp;T Express</td>\n",
       "      <td>pickup</td>\n",
       "      <td>15/11/2022 8:46</td>\n",
       "      <td>12/11/2022 18:30</td>\n",
       "      <td>2022-11-12 08:46:00</td>\n",
       "      <td>...</td>\n",
       "      <td>******view, Quezon City, Metro Manila, Metro M...</td>\n",
       "      <td>North Fairview</td>\n",
       "      <td>Quezon City</td>\n",
       "      <td>Metro Manila</td>\n",
       "      <td>Metro Manila</td>\n",
       "      <td>PH</td>\n",
       "      <td>1121</td>\n",
       "      <td>NaN</td>\n",
       "      <td>14/11/2022 8:03</td>\n",
       "      <td>NaN</td>\n",
       "    </tr>\n",
       "  </tbody>\n",
       "</table>\n",
       "<p>5 rows × 54 columns</p>\n",
       "</div>"
      ],
      "text/plain": [
       "                   SOURCE.NAME        ORDER ID ORDER STATUS  \\\n",
       "date                                                          \n",
       "2022-10-26  2022_10_sales.xlsx  221026EG38031S    Completed   \n",
       "2022-11-11  2022_11_sales.xlsx  221111Q4W4YN38    Completed   \n",
       "2022-11-11  2022_11_sales.xlsx  221111Q4W4YN38    Completed   \n",
       "2022-11-12  2022_11_sales.xlsx  221112TM4AEEYV    Completed   \n",
       "2022-11-12  2022_11_sales.xlsx  221112TJESN7AE    Completed   \n",
       "\n",
       "           RETURN / REFUND STATUS TRACKING NUMBER*  \\\n",
       "date                                                 \n",
       "2022-10-26                    NaN     785348988418   \n",
       "2022-11-11                    NaN     785405295326   \n",
       "2022-11-11                    NaN     785405295326   \n",
       "2022-11-12                    NaN     785419262092   \n",
       "2022-11-12                    NaN     785419084505   \n",
       "\n",
       "                       SHIPPING OPTION SHIPMENT METHOD  \\\n",
       "date                                                     \n",
       "2022-10-26  Standard Local-J&T Express          pickup   \n",
       "2022-11-11  Standard Local-J&T Express          pickup   \n",
       "2022-11-11  Standard Local-J&T Express          pickup   \n",
       "2022-11-12  Standard Local-J&T Express          pickup   \n",
       "2022-11-12  Standard Local-J&T Express          pickup   \n",
       "\n",
       "           ESTIMATED SHIP OUT DATE         SHIP TIME ORDER CREATION DATE  ...  \\\n",
       "date                                                                      ...   \n",
       "2022-10-26        28/10/2022 23:55  27/10/2022 17:04 2022-10-26 23:45:00  ...   \n",
       "2022-11-11         15/11/2022 0:06  11/11/2022 18:42 2022-11-11 00:05:00  ...   \n",
       "2022-11-11         15/11/2022 0:06  11/11/2022 18:42 2022-11-11 00:05:00  ...   \n",
       "2022-11-12         15/11/2022 9:26  12/11/2022 18:30 2022-11-12 09:16:00  ...   \n",
       "2022-11-12         15/11/2022 8:46  12/11/2022 18:30 2022-11-12 08:46:00  ...   \n",
       "\n",
       "                                             DELIVERY ADDRESS            TOWN  \\\n",
       "date                                                                            \n",
       "2022-10-26  ******alon Dos, Las Pinas City, Metro Manila, ...       Talon Dos   \n",
       "2022-11-11  ******view, Quezon City, Metro Manila, Metro M...  North Fairview   \n",
       "2022-11-11  ******view, Quezon City, Metro Manila, Metro M...  North Fairview   \n",
       "2022-11-12  ******Marilao Bulacan, Loma De Gato, Marilao, ...    Loma De Gato   \n",
       "2022-11-12  ******view, Quezon City, Metro Manila, Metro M...  North Fairview   \n",
       "\n",
       "                  DISTRICT          CITY      PROVINCE  COUNTRY  ZIP CODE  \\\n",
       "date                                                                        \n",
       "2022-10-26  Las Pinas City  Metro Manila  Metro Manila       PH      1740   \n",
       "2022-11-11     Quezon City  Metro Manila  Metro Manila       PH      1121   \n",
       "2022-11-11     Quezon City  Metro Manila  Metro Manila       PH      1121   \n",
       "2022-11-12         Marilao       Bulacan   North Luzon       PH      3019   \n",
       "2022-11-12     Quezon City  Metro Manila  Metro Manila       PH      1121   \n",
       "\n",
       "            REMARK FROM BUYER  ORDER COMPLETE TIME  NOTE  \n",
       "date                                                      \n",
       "2022-10-26                NaN     28/10/2022 12:54   NaN  \n",
       "2022-11-11                NaN     12/11/2022 17:17   NaN  \n",
       "2022-11-11                NaN     12/11/2022 17:17   NaN  \n",
       "2022-11-12                NaN     13/11/2022 17:49   NaN  \n",
       "2022-11-12                NaN      14/11/2022 8:03   NaN  \n",
       "\n",
       "[5 rows x 54 columns]"
      ]
     },
     "execution_count": 61,
     "metadata": {},
     "output_type": "execute_result"
    }
   ],
   "source": [
    "df.head()"
   ]
  },
  {
   "cell_type": "code",
   "execution_count": 81,
   "id": "a0632b37-5801-4298-aec2-21731b5b3913",
   "metadata": {},
   "outputs": [
    {
     "data": {
      "text/html": [
       "<div>\n",
       "<style scoped>\n",
       "    .dataframe tbody tr th:only-of-type {\n",
       "        vertical-align: middle;\n",
       "    }\n",
       "\n",
       "    .dataframe tbody tr th {\n",
       "        vertical-align: top;\n",
       "    }\n",
       "\n",
       "    .dataframe thead th {\n",
       "        text-align: right;\n",
       "    }\n",
       "</style>\n",
       "<table border=\"1\" class=\"dataframe\">\n",
       "  <thead>\n",
       "    <tr style=\"text-align: right;\">\n",
       "      <th></th>\n",
       "      <th>ORDER CREATION DATE</th>\n",
       "      <th>PARENT SKU REFERENCE NO.</th>\n",
       "      <th>SKU REFERENCE NO.</th>\n",
       "      <th>ORIGINAL PRICE</th>\n",
       "      <th>DEAL PRICE</th>\n",
       "      <th>QUANTITY</th>\n",
       "      <th>RETURNED QUANTITY</th>\n",
       "      <th>PRODUCT SUBTOTAL</th>\n",
       "      <th>TOTAL DISCOUNT</th>\n",
       "      <th>PRICE DISCOUNT(FROM SELLER)</th>\n",
       "      <th>...</th>\n",
       "      <th>CREDIT CARD DISCOUNT TOTAL</th>\n",
       "      <th>PRODUCTS' PRICE PAID BY BUYER</th>\n",
       "      <th>BUYER PAID SHIPPING FEE</th>\n",
       "      <th>SHIPPING REBATE ESTIMATE</th>\n",
       "      <th>REVERSE SHIPPING FEE</th>\n",
       "      <th>SERVICE FEE</th>\n",
       "      <th>GRAND TOTAL</th>\n",
       "      <th>ESTIMATED SHIPPING FEE</th>\n",
       "      <th>ZIP CODE</th>\n",
       "      <th>NOTE</th>\n",
       "    </tr>\n",
       "  </thead>\n",
       "  <tbody>\n",
       "    <tr>\n",
       "      <th>count</th>\n",
       "      <td>5305</td>\n",
       "      <td>0.0</td>\n",
       "      <td>0.0</td>\n",
       "      <td>5305.000000</td>\n",
       "      <td>5305.000000</td>\n",
       "      <td>5305.000000</td>\n",
       "      <td>1608.000000</td>\n",
       "      <td>5305.000000</td>\n",
       "      <td>5305.000000</td>\n",
       "      <td>5305.000000</td>\n",
       "      <td>...</td>\n",
       "      <td>5305.0</td>\n",
       "      <td>5305.000000</td>\n",
       "      <td>5305.000000</td>\n",
       "      <td>5305.000000</td>\n",
       "      <td>5305.000000</td>\n",
       "      <td>5305.000000</td>\n",
       "      <td>5305.000000</td>\n",
       "      <td>5305.000000</td>\n",
       "      <td>5305.000000</td>\n",
       "      <td>0.0</td>\n",
       "    </tr>\n",
       "    <tr>\n",
       "      <th>mean</th>\n",
       "      <td>2023-12-10 14:38:56.426013184</td>\n",
       "      <td>NaN</td>\n",
       "      <td>NaN</td>\n",
       "      <td>207.513666</td>\n",
       "      <td>207.403582</td>\n",
       "      <td>1.101225</td>\n",
       "      <td>0.006219</td>\n",
       "      <td>217.818285</td>\n",
       "      <td>0.110085</td>\n",
       "      <td>0.110085</td>\n",
       "      <td>...</td>\n",
       "      <td>0.0</td>\n",
       "      <td>298.163431</td>\n",
       "      <td>30.122149</td>\n",
       "      <td>33.295005</td>\n",
       "      <td>0.020924</td>\n",
       "      <td>18.801508</td>\n",
       "      <td>327.061263</td>\n",
       "      <td>63.534779</td>\n",
       "      <td>3075.175872</td>\n",
       "      <td>NaN</td>\n",
       "    </tr>\n",
       "    <tr>\n",
       "      <th>min</th>\n",
       "      <td>2022-10-26 23:45:00</td>\n",
       "      <td>NaN</td>\n",
       "      <td>NaN</td>\n",
       "      <td>5.000000</td>\n",
       "      <td>5.000000</td>\n",
       "      <td>1.000000</td>\n",
       "      <td>0.000000</td>\n",
       "      <td>5.000000</td>\n",
       "      <td>0.000000</td>\n",
       "      <td>0.000000</td>\n",
       "      <td>...</td>\n",
       "      <td>0.0</td>\n",
       "      <td>4.000000</td>\n",
       "      <td>0.000000</td>\n",
       "      <td>0.000000</td>\n",
       "      <td>0.000000</td>\n",
       "      <td>0.000000</td>\n",
       "      <td>0.000000</td>\n",
       "      <td>0.000000</td>\n",
       "      <td>0.000000</td>\n",
       "      <td>NaN</td>\n",
       "    </tr>\n",
       "    <tr>\n",
       "      <th>25%</th>\n",
       "      <td>2023-10-14 21:08:00</td>\n",
       "      <td>NaN</td>\n",
       "      <td>NaN</td>\n",
       "      <td>80.000000</td>\n",
       "      <td>80.000000</td>\n",
       "      <td>1.000000</td>\n",
       "      <td>0.000000</td>\n",
       "      <td>90.000000</td>\n",
       "      <td>0.000000</td>\n",
       "      <td>0.000000</td>\n",
       "      <td>...</td>\n",
       "      <td>0.0</td>\n",
       "      <td>100.000000</td>\n",
       "      <td>0.000000</td>\n",
       "      <td>0.000000</td>\n",
       "      <td>0.000000</td>\n",
       "      <td>8.000000</td>\n",
       "      <td>120.000000</td>\n",
       "      <td>38.000000</td>\n",
       "      <td>1601.000000</td>\n",
       "      <td>NaN</td>\n",
       "    </tr>\n",
       "    <tr>\n",
       "      <th>50%</th>\n",
       "      <td>2023-12-28 04:50:00</td>\n",
       "      <td>NaN</td>\n",
       "      <td>NaN</td>\n",
       "      <td>150.000000</td>\n",
       "      <td>150.000000</td>\n",
       "      <td>1.000000</td>\n",
       "      <td>0.000000</td>\n",
       "      <td>150.000000</td>\n",
       "      <td>0.000000</td>\n",
       "      <td>0.000000</td>\n",
       "      <td>...</td>\n",
       "      <td>0.0</td>\n",
       "      <td>200.000000</td>\n",
       "      <td>14.000000</td>\n",
       "      <td>38.000000</td>\n",
       "      <td>0.000000</td>\n",
       "      <td>14.000000</td>\n",
       "      <td>220.000000</td>\n",
       "      <td>50.000000</td>\n",
       "      <td>2431.000000</td>\n",
       "      <td>NaN</td>\n",
       "    </tr>\n",
       "    <tr>\n",
       "      <th>75%</th>\n",
       "      <td>2024-03-11 21:39:00</td>\n",
       "      <td>NaN</td>\n",
       "      <td>NaN</td>\n",
       "      <td>250.000000</td>\n",
       "      <td>250.000000</td>\n",
       "      <td>1.000000</td>\n",
       "      <td>0.000000</td>\n",
       "      <td>270.000000</td>\n",
       "      <td>0.000000</td>\n",
       "      <td>0.000000</td>\n",
       "      <td>...</td>\n",
       "      <td>0.0</td>\n",
       "      <td>380.000000</td>\n",
       "      <td>45.000000</td>\n",
       "      <td>50.000000</td>\n",
       "      <td>0.000000</td>\n",
       "      <td>24.000000</td>\n",
       "      <td>403.000000</td>\n",
       "      <td>58.000000</td>\n",
       "      <td>4120.000000</td>\n",
       "      <td>NaN</td>\n",
       "    </tr>\n",
       "    <tr>\n",
       "      <th>max</th>\n",
       "      <td>2024-06-29 12:43:00</td>\n",
       "      <td>NaN</td>\n",
       "      <td>NaN</td>\n",
       "      <td>6750.000000</td>\n",
       "      <td>6750.000000</td>\n",
       "      <td>9.000000</td>\n",
       "      <td>2.000000</td>\n",
       "      <td>6750.000000</td>\n",
       "      <td>230.000000</td>\n",
       "      <td>230.000000</td>\n",
       "      <td>...</td>\n",
       "      <td>0.0</td>\n",
       "      <td>6750.000000</td>\n",
       "      <td>974.000000</td>\n",
       "      <td>250.000000</td>\n",
       "      <td>68.000000</td>\n",
       "      <td>378.000000</td>\n",
       "      <td>7334.000000</td>\n",
       "      <td>974.000000</td>\n",
       "      <td>9601.000000</td>\n",
       "      <td>NaN</td>\n",
       "    </tr>\n",
       "    <tr>\n",
       "      <th>std</th>\n",
       "      <td>NaN</td>\n",
       "      <td>NaN</td>\n",
       "      <td>NaN</td>\n",
       "      <td>263.137934</td>\n",
       "      <td>263.037703</td>\n",
       "      <td>0.422465</td>\n",
       "      <td>0.093130</td>\n",
       "      <td>267.042332</td>\n",
       "      <td>3.509729</td>\n",
       "      <td>3.509729</td>\n",
       "      <td>...</td>\n",
       "      <td>0.0</td>\n",
       "      <td>336.551211</td>\n",
       "      <td>45.121616</td>\n",
       "      <td>31.780317</td>\n",
       "      <td>1.104519</td>\n",
       "      <td>18.684599</td>\n",
       "      <td>349.759246</td>\n",
       "      <td>48.598192</td>\n",
       "      <td>1923.651813</td>\n",
       "      <td>NaN</td>\n",
       "    </tr>\n",
       "  </tbody>\n",
       "</table>\n",
       "<p>8 rows × 30 columns</p>\n",
       "</div>"
      ],
      "text/plain": [
       "                 ORDER CREATION DATE  PARENT SKU REFERENCE NO.  \\\n",
       "count                           5305                       0.0   \n",
       "mean   2023-12-10 14:38:56.426013184                       NaN   \n",
       "min              2022-10-26 23:45:00                       NaN   \n",
       "25%              2023-10-14 21:08:00                       NaN   \n",
       "50%              2023-12-28 04:50:00                       NaN   \n",
       "75%              2024-03-11 21:39:00                       NaN   \n",
       "max              2024-06-29 12:43:00                       NaN   \n",
       "std                              NaN                       NaN   \n",
       "\n",
       "       SKU REFERENCE NO.  ORIGINAL PRICE   DEAL PRICE     QUANTITY  \\\n",
       "count                0.0     5305.000000  5305.000000  5305.000000   \n",
       "mean                 NaN      207.513666   207.403582     1.101225   \n",
       "min                  NaN        5.000000     5.000000     1.000000   \n",
       "25%                  NaN       80.000000    80.000000     1.000000   \n",
       "50%                  NaN      150.000000   150.000000     1.000000   \n",
       "75%                  NaN      250.000000   250.000000     1.000000   \n",
       "max                  NaN     6750.000000  6750.000000     9.000000   \n",
       "std                  NaN      263.137934   263.037703     0.422465   \n",
       "\n",
       "       RETURNED QUANTITY  PRODUCT SUBTOTAL  TOTAL DISCOUNT  \\\n",
       "count        1608.000000       5305.000000     5305.000000   \n",
       "mean            0.006219        217.818285        0.110085   \n",
       "min             0.000000          5.000000        0.000000   \n",
       "25%             0.000000         90.000000        0.000000   \n",
       "50%             0.000000        150.000000        0.000000   \n",
       "75%             0.000000        270.000000        0.000000   \n",
       "max             2.000000       6750.000000      230.000000   \n",
       "std             0.093130        267.042332        3.509729   \n",
       "\n",
       "       PRICE DISCOUNT(FROM SELLER)  ...  CREDIT CARD DISCOUNT TOTAL  \\\n",
       "count                  5305.000000  ...                      5305.0   \n",
       "mean                      0.110085  ...                         0.0   \n",
       "min                       0.000000  ...                         0.0   \n",
       "25%                       0.000000  ...                         0.0   \n",
       "50%                       0.000000  ...                         0.0   \n",
       "75%                       0.000000  ...                         0.0   \n",
       "max                     230.000000  ...                         0.0   \n",
       "std                       3.509729  ...                         0.0   \n",
       "\n",
       "       PRODUCTS' PRICE PAID BY BUYER  BUYER PAID SHIPPING FEE  \\\n",
       "count                    5305.000000              5305.000000   \n",
       "mean                      298.163431                30.122149   \n",
       "min                         4.000000                 0.000000   \n",
       "25%                       100.000000                 0.000000   \n",
       "50%                       200.000000                14.000000   \n",
       "75%                       380.000000                45.000000   \n",
       "max                      6750.000000               974.000000   \n",
       "std                       336.551211                45.121616   \n",
       "\n",
       "       SHIPPING REBATE ESTIMATE  REVERSE SHIPPING FEE  SERVICE FEE  \\\n",
       "count               5305.000000           5305.000000  5305.000000   \n",
       "mean                  33.295005              0.020924    18.801508   \n",
       "min                    0.000000              0.000000     0.000000   \n",
       "25%                    0.000000              0.000000     8.000000   \n",
       "50%                   38.000000              0.000000    14.000000   \n",
       "75%                   50.000000              0.000000    24.000000   \n",
       "max                  250.000000             68.000000   378.000000   \n",
       "std                   31.780317              1.104519    18.684599   \n",
       "\n",
       "       GRAND TOTAL  ESTIMATED SHIPPING FEE     ZIP CODE  NOTE  \n",
       "count  5305.000000             5305.000000  5305.000000   0.0  \n",
       "mean    327.061263               63.534779  3075.175872   NaN  \n",
       "min       0.000000                0.000000     0.000000   NaN  \n",
       "25%     120.000000               38.000000  1601.000000   NaN  \n",
       "50%     220.000000               50.000000  2431.000000   NaN  \n",
       "75%     403.000000               58.000000  4120.000000   NaN  \n",
       "max    7334.000000              974.000000  9601.000000   NaN  \n",
       "std     349.759246               48.598192  1923.651813   NaN  \n",
       "\n",
       "[8 rows x 30 columns]"
      ]
     },
     "execution_count": 81,
     "metadata": {},
     "output_type": "execute_result"
    }
   ],
   "source": [
    "df.describe()"
   ]
  },
  {
   "cell_type": "code",
   "execution_count": 83,
   "id": "a73ccb4f-ccf0-4fee-bc25-46923d6a2ba4",
   "metadata": {},
   "outputs": [],
   "source": [
    "#df.loc[:, ['USERNAME']]"
   ]
  },
  {
   "cell_type": "code",
   "execution_count": 85,
   "id": "8ebb1d0a-13d9-4f05-b78d-4de161a7a972",
   "metadata": {},
   "outputs": [],
   "source": [
    "#distinct_usernames = df.drop_duplicates(subset=['USERNAME'], keep='first')\n",
    "#print(distinct_usernames)"
   ]
  },
  {
   "cell_type": "code",
   "execution_count": 87,
   "id": "6bb0a8ce-2332-4338-a832-56f82ca66139",
   "metadata": {},
   "outputs": [],
   "source": [
    "#ALL DISTINCT USERNAMES\n",
    "#distinct_usernames_df = distinct_usernames_df.sort_values(by='USERNAME')\n",
    "#pd.set_option('display.max_rows', None)\n",
    "#print(\"\\nSorted Distinct Usernames DataFrame:\")\n",
    "#print(distinct_usernames_df)"
   ]
  },
  {
   "cell_type": "code",
   "execution_count": 89,
   "id": "e59dc462-f863-429d-8c98-6215a8b0ae7e",
   "metadata": {},
   "outputs": [],
   "source": [
    "#DROP COLUMN IF THE DATA TYPE IS float or int\n",
    "#if not (pd.api.types.is_float_dtype(['SOURCE.NAME']) or pd.api.types.is_integer_dtype(['SOURCE.NAME']):\n",
    "        #Drop the column if the condition is met\n",
    "        #df.drop('SOURCE.NAME', axis=1, inplace=True)\n",
    "#print(\"\\nDataFrame after dropping non-numeric columns:\")\n",
    "#print(df)"
   ]
  },
  {
   "cell_type": "code",
   "execution_count": 91,
   "id": "dbb59c4f-d3b9-446d-8606-0b63756a6406",
   "metadata": {},
   "outputs": [],
   "source": [
    "#df.groupby('CITY').min(numeric_only = True)"
   ]
  },
  {
   "cell_type": "code",
   "execution_count": 93,
   "id": "607d577c-c17f-49c1-95e4-f6e15f77def1",
   "metadata": {
    "scrolled": true
   },
   "outputs": [],
   "source": [
    "income_by_month = df.groupby('SOURCE.NAME').sum(numeric_only=True)"
   ]
  },
  {
   "cell_type": "code",
   "execution_count": 95,
   "id": "b6d63fde-c23b-4672-9e18-c032f43218cc",
   "metadata": {
    "scrolled": true
   },
   "outputs": [
    {
     "ename": "ImportError",
     "evalue": "cannot import name 'Axes' from 'matplotlib.axes' (unknown location)",
     "output_type": "error",
     "traceback": [
      "\u001b[1;31m---------------------------------------------------------------------------\u001b[0m",
      "\u001b[1;31mImportError\u001b[0m                               Traceback (most recent call last)",
      "Cell \u001b[1;32mIn[95], line 1\u001b[0m\n\u001b[1;32m----> 1\u001b[0m df\u001b[38;5;241m.\u001b[39mplot(y \u001b[38;5;241m=\u001b[39m [\u001b[38;5;124m'\u001b[39m\u001b[38;5;124mGRAND TOTAL\u001b[39m\u001b[38;5;124m'\u001b[39m])\n\u001b[0;32m      2\u001b[0m \u001b[38;5;66;03m# plt.bar(df['date'], df['GRAND TOTAL'].mean())\u001b[39;00m\n\u001b[0;32m      4\u001b[0m plt\u001b[38;5;241m.\u001b[39mtitle(\u001b[38;5;124m'\u001b[39m\u001b[38;5;124mGeneral Income\u001b[39m\u001b[38;5;124m'\u001b[39m)\n",
      "File \u001b[1;32m~\\anaconda3\\Lib\\site-packages\\pandas\\plotting\\_core.py:1030\u001b[0m, in \u001b[0;36mPlotAccessor.__call__\u001b[1;34m(self, *args, **kwargs)\u001b[0m\n\u001b[0;32m   1027\u001b[0m             label_name \u001b[38;5;241m=\u001b[39m label_kw \u001b[38;5;129;01mor\u001b[39;00m data\u001b[38;5;241m.\u001b[39mcolumns\n\u001b[0;32m   1028\u001b[0m             data\u001b[38;5;241m.\u001b[39mcolumns \u001b[38;5;241m=\u001b[39m label_name\n\u001b[1;32m-> 1030\u001b[0m \u001b[38;5;28;01mreturn\u001b[39;00m plot_backend\u001b[38;5;241m.\u001b[39mplot(data, kind\u001b[38;5;241m=\u001b[39mkind, \u001b[38;5;241m*\u001b[39m\u001b[38;5;241m*\u001b[39mkwargs)\n",
      "File \u001b[1;32m~\\anaconda3\\Lib\\site-packages\\pandas\\plotting\\_matplotlib\\__init__.py:62\u001b[0m, in \u001b[0;36mplot\u001b[1;34m(data, kind, **kwargs)\u001b[0m\n\u001b[0;32m     58\u001b[0m \u001b[38;5;28;01mdef\u001b[39;00m \u001b[38;5;21mplot\u001b[39m(data, kind, \u001b[38;5;241m*\u001b[39m\u001b[38;5;241m*\u001b[39mkwargs):\n\u001b[0;32m     59\u001b[0m     \u001b[38;5;66;03m# Importing pyplot at the top of the file (before the converters are\u001b[39;00m\n\u001b[0;32m     60\u001b[0m     \u001b[38;5;66;03m# registered) causes problems in matplotlib 2 (converters seem to not\u001b[39;00m\n\u001b[0;32m     61\u001b[0m     \u001b[38;5;66;03m# work)\u001b[39;00m\n\u001b[1;32m---> 62\u001b[0m     \u001b[38;5;28;01mimport\u001b[39;00m \u001b[38;5;21;01mmatplotlib\u001b[39;00m\u001b[38;5;21;01m.\u001b[39;00m\u001b[38;5;21;01mpyplot\u001b[39;00m \u001b[38;5;28;01mas\u001b[39;00m \u001b[38;5;21;01mplt\u001b[39;00m\n\u001b[0;32m     64\u001b[0m     \u001b[38;5;28;01mif\u001b[39;00m kwargs\u001b[38;5;241m.\u001b[39mpop(\u001b[38;5;124m\"\u001b[39m\u001b[38;5;124mreuse_plot\u001b[39m\u001b[38;5;124m\"\u001b[39m, \u001b[38;5;28;01mFalse\u001b[39;00m):\n\u001b[0;32m     65\u001b[0m         ax \u001b[38;5;241m=\u001b[39m kwargs\u001b[38;5;241m.\u001b[39mget(\u001b[38;5;124m\"\u001b[39m\u001b[38;5;124max\u001b[39m\u001b[38;5;124m\"\u001b[39m)\n",
      "File \u001b[1;32m~\\anaconda3\\Lib\\site-packages\\matplotlib\\pyplot.py:66\u001b[0m\n\u001b[0;32m     63\u001b[0m \u001b[38;5;28;01mfrom\u001b[39;00m \u001b[38;5;21;01mmatplotlib\u001b[39;00m \u001b[38;5;28;01mimport\u001b[39;00m _docstring\n\u001b[0;32m     64\u001b[0m \u001b[38;5;28;01mfrom\u001b[39;00m \u001b[38;5;21;01mmatplotlib\u001b[39;00m\u001b[38;5;21;01m.\u001b[39;00m\u001b[38;5;21;01mbackend_bases\u001b[39;00m \u001b[38;5;28;01mimport\u001b[39;00m (\n\u001b[0;32m     65\u001b[0m     FigureCanvasBase, FigureManagerBase, MouseButton)\n\u001b[1;32m---> 66\u001b[0m \u001b[38;5;28;01mfrom\u001b[39;00m \u001b[38;5;21;01mmatplotlib\u001b[39;00m\u001b[38;5;21;01m.\u001b[39;00m\u001b[38;5;21;01mfigure\u001b[39;00m \u001b[38;5;28;01mimport\u001b[39;00m Figure, FigureBase, figaspect\n\u001b[0;32m     67\u001b[0m \u001b[38;5;28;01mfrom\u001b[39;00m \u001b[38;5;21;01mmatplotlib\u001b[39;00m\u001b[38;5;21;01m.\u001b[39;00m\u001b[38;5;21;01mgridspec\u001b[39;00m \u001b[38;5;28;01mimport\u001b[39;00m GridSpec, SubplotSpec\n\u001b[0;32m     68\u001b[0m \u001b[38;5;28;01mfrom\u001b[39;00m \u001b[38;5;21;01mmatplotlib\u001b[39;00m \u001b[38;5;28;01mimport\u001b[39;00m rcsetup, rcParamsDefault, rcParamsOrig\n",
      "File \u001b[1;32m~\\anaconda3\\Lib\\site-packages\\matplotlib\\figure.py:43\u001b[0m\n\u001b[0;32m     40\u001b[0m \u001b[38;5;28;01mimport\u001b[39;00m \u001b[38;5;21;01mnumpy\u001b[39;00m \u001b[38;5;28;01mas\u001b[39;00m \u001b[38;5;21;01mnp\u001b[39;00m\n\u001b[0;32m     42\u001b[0m \u001b[38;5;28;01mimport\u001b[39;00m \u001b[38;5;21;01mmatplotlib\u001b[39;00m \u001b[38;5;28;01mas\u001b[39;00m \u001b[38;5;21;01mmpl\u001b[39;00m\n\u001b[1;32m---> 43\u001b[0m \u001b[38;5;28;01mfrom\u001b[39;00m \u001b[38;5;21;01mmatplotlib\u001b[39;00m \u001b[38;5;28;01mimport\u001b[39;00m _blocking_input, backend_bases, _docstring, projections\n\u001b[0;32m     44\u001b[0m \u001b[38;5;28;01mfrom\u001b[39;00m \u001b[38;5;21;01mmatplotlib\u001b[39;00m\u001b[38;5;21;01m.\u001b[39;00m\u001b[38;5;21;01martist\u001b[39;00m \u001b[38;5;28;01mimport\u001b[39;00m (\n\u001b[0;32m     45\u001b[0m     Artist, allow_rasterization, _finalize_rasterization)\n\u001b[0;32m     46\u001b[0m \u001b[38;5;28;01mfrom\u001b[39;00m \u001b[38;5;21;01mmatplotlib\u001b[39;00m\u001b[38;5;21;01m.\u001b[39;00m\u001b[38;5;21;01mbackend_bases\u001b[39;00m \u001b[38;5;28;01mimport\u001b[39;00m (\n\u001b[0;32m     47\u001b[0m     DrawEvent, FigureCanvasBase, NonGuiException, MouseButton, _get_renderer)\n",
      "File \u001b[1;32m~\\anaconda3\\Lib\\site-packages\\matplotlib\\projections\\__init__.py:56\u001b[0m\n\u001b[0;32m      1\u001b[0m \u001b[38;5;124;03m\"\"\"\u001b[39;00m\n\u001b[0;32m      2\u001b[0m \u001b[38;5;124;03mNon-separable transforms that map from data space to screen space.\u001b[39;00m\n\u001b[0;32m      3\u001b[0m \n\u001b[1;32m   (...)\u001b[0m\n\u001b[0;32m     52\u001b[0m \u001b[38;5;124;03m`matplotlib.projections.polar` may also be of interest.\u001b[39;00m\n\u001b[0;32m     53\u001b[0m \u001b[38;5;124;03m\"\"\"\u001b[39;00m\n\u001b[0;32m     55\u001b[0m \u001b[38;5;28;01mfrom\u001b[39;00m \u001b[38;5;21;01m.\u001b[39;00m\u001b[38;5;21;01m.\u001b[39;00m \u001b[38;5;28;01mimport\u001b[39;00m axes, _docstring\n\u001b[1;32m---> 56\u001b[0m \u001b[38;5;28;01mfrom\u001b[39;00m \u001b[38;5;21;01m.\u001b[39;00m\u001b[38;5;21;01mgeo\u001b[39;00m \u001b[38;5;28;01mimport\u001b[39;00m AitoffAxes, HammerAxes, LambertAxes, MollweideAxes\n\u001b[0;32m     57\u001b[0m \u001b[38;5;28;01mfrom\u001b[39;00m \u001b[38;5;21;01m.\u001b[39;00m\u001b[38;5;21;01mpolar\u001b[39;00m \u001b[38;5;28;01mimport\u001b[39;00m PolarAxes\n\u001b[0;32m     59\u001b[0m \u001b[38;5;28;01mtry\u001b[39;00m:\n",
      "File \u001b[1;32m~\\anaconda3\\Lib\\site-packages\\matplotlib\\projections\\geo.py:5\u001b[0m\n\u001b[0;32m      3\u001b[0m \u001b[38;5;28;01mimport\u001b[39;00m \u001b[38;5;21;01mmatplotlib\u001b[39;00m \u001b[38;5;28;01mas\u001b[39;00m \u001b[38;5;21;01mmpl\u001b[39;00m\n\u001b[0;32m      4\u001b[0m \u001b[38;5;28;01mfrom\u001b[39;00m \u001b[38;5;21;01mmatplotlib\u001b[39;00m \u001b[38;5;28;01mimport\u001b[39;00m _api\n\u001b[1;32m----> 5\u001b[0m \u001b[38;5;28;01mfrom\u001b[39;00m \u001b[38;5;21;01mmatplotlib\u001b[39;00m\u001b[38;5;21;01m.\u001b[39;00m\u001b[38;5;21;01maxes\u001b[39;00m \u001b[38;5;28;01mimport\u001b[39;00m Axes\n\u001b[0;32m      6\u001b[0m \u001b[38;5;28;01mimport\u001b[39;00m \u001b[38;5;21;01mmatplotlib\u001b[39;00m\u001b[38;5;21;01m.\u001b[39;00m\u001b[38;5;21;01maxis\u001b[39;00m \u001b[38;5;28;01mas\u001b[39;00m \u001b[38;5;21;01mmaxis\u001b[39;00m\n\u001b[0;32m      7\u001b[0m \u001b[38;5;28;01mfrom\u001b[39;00m \u001b[38;5;21;01mmatplotlib\u001b[39;00m\u001b[38;5;21;01m.\u001b[39;00m\u001b[38;5;21;01mpatches\u001b[39;00m \u001b[38;5;28;01mimport\u001b[39;00m Circle\n",
      "\u001b[1;31mImportError\u001b[0m: cannot import name 'Axes' from 'matplotlib.axes' (unknown location)"
     ]
    }
   ],
   "source": [
    "df.plot(y = ['GRAND TOTAL'])\n",
    "# plt.bar(df['date'], df['GRAND TOTAL'].mean())\n",
    "\n",
    "plt.title('General Income')\n",
    "plt.xlabel('Date')\n",
    "plt.ylabel('Orders')"
   ]
  },
  {
   "cell_type": "code",
   "execution_count": 79,
   "id": "e530a5c9-45d1-49e1-b1b7-30b2fe507f7f",
   "metadata": {
    "scrolled": true
   },
   "outputs": [
    {
     "ename": "NameError",
     "evalue": "name 'plt' is not defined",
     "output_type": "error",
     "traceback": [
      "\u001b[1;31m---------------------------------------------------------------------------\u001b[0m",
      "\u001b[1;31mNameError\u001b[0m                                 Traceback (most recent call last)",
      "Cell \u001b[1;32mIn[79], line 1\u001b[0m\n\u001b[1;32m----> 1\u001b[0m plt\u001b[38;5;241m.\u001b[39mfigure(figsize \u001b[38;5;241m=\u001b[39m (\u001b[38;5;241m8\u001b[39m,\u001b[38;5;241m5\u001b[39m))\n\u001b[0;32m      3\u001b[0m plt\u001b[38;5;241m.\u001b[39mplot(df\u001b[38;5;241m.\u001b[39mindex, df[\u001b[38;5;124m'\u001b[39m\u001b[38;5;124mGRAND TOTAL\u001b[39m\u001b[38;5;124m'\u001b[39m])\n\u001b[0;32m      4\u001b[0m plt\u001b[38;5;241m.\u001b[39mtitle(\u001b[38;5;124m'\u001b[39m\u001b[38;5;124mUnfiltered General Income\u001b[39m\u001b[38;5;124m'\u001b[39m)\n",
      "\u001b[1;31mNameError\u001b[0m: name 'plt' is not defined"
     ]
    }
   ],
   "source": [
    "plt.figure(figsize = (8,5))\n",
    "\n",
    "plt.plot(df.index, df['GRAND TOTAL'])\n",
    "plt.title('Unfiltered General Income')\n",
    "plt.xlabel('Year')\n",
    "plt.ylabel('Philippine Peso')\n"
   ]
  },
  {
   "cell_type": "code",
   "execution_count": null,
   "id": "e3fbe3da-380b-4b08-afe9-5eb45a9c03ad",
   "metadata": {
    "scrolled": true
   },
   "outputs": [],
   "source": [
    "df[df['PRODUCT NAME'].str.contains('GUNDAM') | df['PRODUCT NAME'].str.contains('Vintage')]"
   ]
  },
  {
   "cell_type": "code",
   "execution_count": null,
   "id": "2af38795-3d2a-46b5-a88b-21c19d6ee61b",
   "metadata": {},
   "outputs": [],
   "source": [
    "ff = df.groupby(['SOURCE.NAME']).sum(numeric_only=True).sort_values(by ='GRAND TOTAL', ascending = True)\n",
    "ff.plot.barh(y = ['GRAND TOTAL', 'ESTIMATED SHIPPING FEE'])"
   ]
  },
  {
   "cell_type": "code",
   "execution_count": null,
   "id": "b7a6c2ba-446e-4898-b6a4-4b5c1cfb2aba",
   "metadata": {
    "scrolled": true
   },
   "outputs": [],
   "source": [
    "df.groupby(df.index).sum(numeric_only=True)"
   ]
  },
  {
   "cell_type": "code",
   "execution_count": null,
   "id": "916f7d89-9e1d-4f72-8dce-59ab1394ee19",
   "metadata": {},
   "outputs": [],
   "source": [
    "df['PRODUCT NAME'].str.contains('UK').value_counts()"
   ]
  },
  {
   "cell_type": "code",
   "execution_count": null,
   "id": "fdb0ddb2-a979-4816-8e12-2258678bbb4e",
   "metadata": {},
   "outputs": [],
   "source": [
    "\n",
    "d1.plot(y = ['GRAND TOTAL'])\n",
    "# plt.bar(df['date'], df['GRAND TOTAL'].mean())\n",
    "plt.title('General Income')\n",
    "plt.xlabel('Date')\n",
    "plt.ylabel('Orders')"
   ]
  },
  {
   "cell_type": "code",
   "execution_count": null,
   "id": "2c7768b8-17f6-480f-934d-690e17b89ff3",
   "metadata": {
    "editable": true,
    "slideshow": {
     "slide_type": ""
    },
    "tags": []
   },
   "outputs": [],
   "source": [
    "keywords = ['UK and', 'Self CO US UK Japan Surplus', 'Anik Anik', 'Anik-Anik', 'US and', 'for sis', 'Self CO', \"Miner's\", 'miners', 'Checkout', 'Check-out', 'Check out', 'checkout', 'ANIK ANIK', 'Live Sell', 'live sell', 'Live sell', 'STATIONERY', 'Marbi']"
   ]
  },
  {
   "cell_type": "code",
   "execution_count": null,
   "id": "387af0fc-4455-48b2-8046-7d74e33d7517",
   "metadata": {},
   "outputs": [],
   "source": [
    "df['live'] = df.apply(lambda row: +1 if any(keyword in row['PRODUCT NAME'] for keyword in keywords) else 0, axis=1) #for every row, +1 if any keyword exist in keywords[] list. If none, 0.\n",
    "df['Listing'] = df.apply(lambda row: 0 if row['live'] == 1 else +1, axis=1)\n",
    "df['Sold via'] = df.apply(lambda row: 'Live' if any(keyword in row['PRODUCT NAME'] for keyword in keywords) else 'Listing', axis=1)"
   ]
  },
  {
   "cell_type": "code",
   "execution_count": null,
   "id": "dd3f6a59-641f-41d8-b76e-ec610f652340",
   "metadata": {
    "scrolled": true
   },
   "outputs": [],
   "source": [
    "df.loc[:, ['PRODUCT NAME', 'QUANTITY','live', 'Listing', 'Sold via']].sort_values(by = ['live', 'Listing', 'PRODUCT NAME'], ascending = False)"
   ]
  },
  {
   "cell_type": "code",
   "execution_count": null,
   "id": "c6e68027-6b44-4280-902f-04cecad1b9e6",
   "metadata": {},
   "outputs": [],
   "source": [
    "d = df.groupby('Sold via').sum(numeric_only = True)\n",
    "d['Total'] = 492 + 4813 #Taken from actual values of Live and Total column\n",
    "d['Live%'] = d['live'] / d['Total'] * 100\n",
    "d['List%'] = d['Listing']/d['Total'] * 100"
   ]
  },
  {
   "cell_type": "code",
   "execution_count": 25,
   "id": "149a08ee-f21f-481d-b012-590bee5bc644",
   "metadata": {},
   "outputs": [
    {
     "ename": "NameError",
     "evalue": "name 'd' is not defined",
     "output_type": "error",
     "traceback": [
      "\u001b[1;31m---------------------------------------------------------------------------\u001b[0m",
      "\u001b[1;31mNameError\u001b[0m                                 Traceback (most recent call last)",
      "Cell \u001b[1;32mIn[25], line 1\u001b[0m\n\u001b[1;32m----> 1\u001b[0m d\u001b[38;5;241m.\u001b[39mplot\u001b[38;5;241m.\u001b[39mbarh(y \u001b[38;5;241m=\u001b[39m [\u001b[38;5;124m'\u001b[39m\u001b[38;5;124mListing\u001b[39m\u001b[38;5;124m'\u001b[39m, \u001b[38;5;124m'\u001b[39m\u001b[38;5;124mlive\u001b[39m\u001b[38;5;124m'\u001b[39m, \u001b[38;5;124m'\u001b[39m\u001b[38;5;124mQUANTITY\u001b[39m\u001b[38;5;124m'\u001b[39m])\n",
      "\u001b[1;31mNameError\u001b[0m: name 'd' is not defined"
     ]
    }
   ],
   "source": [
    "d.plot.barh(y = ['Listing', 'live', 'QUANTITY'])"
   ]
  },
  {
   "cell_type": "code",
   "execution_count": 27,
   "id": "89f0a545-6c3a-4597-8c17-b70b2813814f",
   "metadata": {},
   "outputs": [
    {
     "ename": "NameError",
     "evalue": "name 'd' is not defined",
     "output_type": "error",
     "traceback": [
      "\u001b[1;31m---------------------------------------------------------------------------\u001b[0m",
      "\u001b[1;31mNameError\u001b[0m                                 Traceback (most recent call last)",
      "Cell \u001b[1;32mIn[27], line 1\u001b[0m\n\u001b[1;32m----> 1\u001b[0m d\u001b[38;5;241m.\u001b[39mplot\u001b[38;5;241m.\u001b[39mbarh(y \u001b[38;5;241m=\u001b[39m [\u001b[38;5;124m'\u001b[39m\u001b[38;5;124mList\u001b[39m\u001b[38;5;124m%\u001b[39m\u001b[38;5;124m'\u001b[39m, \u001b[38;5;124m'\u001b[39m\u001b[38;5;124mLive\u001b[39m\u001b[38;5;124m%\u001b[39m\u001b[38;5;124m'\u001b[39m], stacked \u001b[38;5;241m=\u001b[39m \u001b[38;5;28;01mTrue\u001b[39;00m)\n",
      "\u001b[1;31mNameError\u001b[0m: name 'd' is not defined"
     ]
    }
   ],
   "source": [
    "d.plot.barh(y = ['List%', 'Live%'], stacked = True)"
   ]
  },
  {
   "cell_type": "code",
   "execution_count": 29,
   "id": "0f715a87-08af-4e55-9966-709c5a34c298",
   "metadata": {
    "scrolled": true
   },
   "outputs": [
    {
     "ename": "NameError",
     "evalue": "name 'df' is not defined",
     "output_type": "error",
     "traceback": [
      "\u001b[1;31m---------------------------------------------------------------------------\u001b[0m",
      "\u001b[1;31mNameError\u001b[0m                                 Traceback (most recent call last)",
      "Cell \u001b[1;32mIn[29], line 1\u001b[0m\n\u001b[1;32m----> 1\u001b[0m product_filter \u001b[38;5;241m=\u001b[39m df\u001b[38;5;241m.\u001b[39mgroupby(\u001b[38;5;124m'\u001b[39m\u001b[38;5;124mPRODUCT NAME\u001b[39m\u001b[38;5;124m'\u001b[39m)\u001b[38;5;241m.\u001b[39msum(numeric_only \u001b[38;5;241m=\u001b[39m \u001b[38;5;28;01mTrue\u001b[39;00m)\u001b[38;5;241m.\u001b[39msort_values(by\u001b[38;5;241m=\u001b[39m\u001b[38;5;124m'\u001b[39m\u001b[38;5;124mGRAND TOTAL\u001b[39m\u001b[38;5;124m'\u001b[39m, ascending \u001b[38;5;241m=\u001b[39m \u001b[38;5;28;01mTrue\u001b[39;00m)\n",
      "\u001b[1;31mNameError\u001b[0m: name 'df' is not defined"
     ]
    }
   ],
   "source": [
    "product_filter = df.groupby('PRODUCT NAME').sum(numeric_only = True).sort_values(by='GRAND TOTAL', ascending = True)"
   ]
  },
  {
   "cell_type": "code",
   "execution_count": 30,
   "id": "b6df0711-d6bf-42e0-8b10-9837d08b3398",
   "metadata": {},
   "outputs": [
    {
     "ename": "NameError",
     "evalue": "name 'product_filter' is not defined",
     "output_type": "error",
     "traceback": [
      "\u001b[1;31m---------------------------------------------------------------------------\u001b[0m",
      "\u001b[1;31mNameError\u001b[0m                                 Traceback (most recent call last)",
      "Cell \u001b[1;32mIn[30], line 1\u001b[0m\n\u001b[1;32m----> 1\u001b[0m product_filter\u001b[38;5;241m.\u001b[39mtail(\u001b[38;5;241m20\u001b[39m)\u001b[38;5;241m.\u001b[39mplot\u001b[38;5;241m.\u001b[39mbarh(y \u001b[38;5;241m=\u001b[39m [\u001b[38;5;124m'\u001b[39m\u001b[38;5;124mGRAND TOTAL\u001b[39m\u001b[38;5;124m'\u001b[39m])\n\u001b[0;32m      2\u001b[0m plt\u001b[38;5;241m.\u001b[39mtitle(\u001b[38;5;124m'\u001b[39m\u001b[38;5;124mSales by Product\u001b[39m\u001b[38;5;124m'\u001b[39m)\n\u001b[0;32m      3\u001b[0m plt\u001b[38;5;241m.\u001b[39mxlabel(\u001b[38;5;124m'\u001b[39m\u001b[38;5;124mTotal Sales\u001b[39m\u001b[38;5;124m'\u001b[39m)\n",
      "\u001b[1;31mNameError\u001b[0m: name 'product_filter' is not defined"
     ]
    }
   ],
   "source": [
    "product_filter.tail(20).plot.barh(y = ['GRAND TOTAL'])\n",
    "plt.title('Sales by Product')\n",
    "plt.xlabel('Total Sales')\n",
    "plt.ylabel('Product Name')"
   ]
  },
  {
   "cell_type": "code",
   "execution_count": 32,
   "id": "85c22aa6-62be-4c11-956e-9ad72f90d195",
   "metadata": {},
   "outputs": [
    {
     "ename": "NameError",
     "evalue": "name 'df' is not defined",
     "output_type": "error",
     "traceback": [
      "\u001b[1;31m---------------------------------------------------------------------------\u001b[0m",
      "\u001b[1;31mNameError\u001b[0m                                 Traceback (most recent call last)",
      "Cell \u001b[1;32mIn[32], line 1\u001b[0m\n\u001b[1;32m----> 1\u001b[0m city_filter \u001b[38;5;241m=\u001b[39m df\u001b[38;5;241m.\u001b[39mgroupby(\u001b[38;5;124m'\u001b[39m\u001b[38;5;124mCITY\u001b[39m\u001b[38;5;124m'\u001b[39m)\u001b[38;5;241m.\u001b[39msum(numeric_only\u001b[38;5;241m=\u001b[39m\u001b[38;5;28;01mTrue\u001b[39;00m)\u001b[38;5;241m.\u001b[39msort_values(by \u001b[38;5;241m=\u001b[39m \u001b[38;5;124m'\u001b[39m\u001b[38;5;124mGRAND TOTAL\u001b[39m\u001b[38;5;124m'\u001b[39m, ascending \u001b[38;5;241m=\u001b[39m \u001b[38;5;28;01mTrue\u001b[39;00m)\n",
      "\u001b[1;31mNameError\u001b[0m: name 'df' is not defined"
     ]
    }
   ],
   "source": [
    "city_filter = df.groupby('CITY').sum(numeric_only=True).sort_values(by = 'GRAND TOTAL', ascending = True)"
   ]
  },
  {
   "cell_type": "code",
   "execution_count": null,
   "id": "fdeb7c5a-acc8-4fd8-969c-6f6885d4b524",
   "metadata": {},
   "outputs": [],
   "source": [
    "city_filter.tail(10).plot.barh(y = 'GRAND TOTAL')"
   ]
  },
  {
   "cell_type": "code",
   "execution_count": 35,
   "id": "aef6a67f-4e5d-4287-9c32-a17e9ccecc50",
   "metadata": {},
   "outputs": [
    {
     "ename": "NameError",
     "evalue": "name 'df' is not defined",
     "output_type": "error",
     "traceback": [
      "\u001b[1;31m---------------------------------------------------------------------------\u001b[0m",
      "\u001b[1;31mNameError\u001b[0m                                 Traceback (most recent call last)",
      "Cell \u001b[1;32mIn[35], line 1\u001b[0m\n\u001b[1;32m----> 1\u001b[0m user_filter \u001b[38;5;241m=\u001b[39m df\u001b[38;5;241m.\u001b[39mgroupby(\u001b[38;5;124m'\u001b[39m\u001b[38;5;124mUSERNAME\u001b[39m\u001b[38;5;124m'\u001b[39m)\u001b[38;5;241m.\u001b[39msum(numeric_only\u001b[38;5;241m=\u001b[39m\u001b[38;5;28;01mTrue\u001b[39;00m)\u001b[38;5;241m.\u001b[39msort_values(by \u001b[38;5;241m=\u001b[39m \u001b[38;5;124m'\u001b[39m\u001b[38;5;124mGRAND TOTAL\u001b[39m\u001b[38;5;124m'\u001b[39m, ascending \u001b[38;5;241m=\u001b[39m \u001b[38;5;28;01mFalse\u001b[39;00m)\n",
      "\u001b[1;31mNameError\u001b[0m: name 'df' is not defined"
     ]
    }
   ],
   "source": [
    "user_filter = df.groupby('USERNAME').sum(numeric_only=True).sort_values(by = 'GRAND TOTAL', ascending = False)"
   ]
  },
  {
   "cell_type": "code",
   "execution_count": null,
   "id": "a17d530f-ce4a-4d4a-b084-a34606abc90c",
   "metadata": {},
   "outputs": [],
   "source": [
    "user_filter.head(10).plot.barh(y = ['GRAND TOTAL', \"PRODUCTS' PRICE PAID BY BUYER\"], color = ['blue', 'orange'])"
   ]
  },
  {
   "cell_type": "code",
   "execution_count": 38,
   "id": "e937f56a-5a58-4488-b84a-edcc6bf162e2",
   "metadata": {},
   "outputs": [
    {
     "ename": "NameError",
     "evalue": "name 'plt' is not defined",
     "output_type": "error",
     "traceback": [
      "\u001b[1;31m---------------------------------------------------------------------------\u001b[0m",
      "\u001b[1;31mNameError\u001b[0m                                 Traceback (most recent call last)",
      "Cell \u001b[1;32mIn[38], line 1\u001b[0m\n\u001b[1;32m----> 1\u001b[0m plt\u001b[38;5;241m.\u001b[39mfigure(figsize \u001b[38;5;241m=\u001b[39m (\u001b[38;5;241m8\u001b[39m,\u001b[38;5;241m5\u001b[39m))\n\u001b[0;32m      3\u001b[0m plt\u001b[38;5;241m.\u001b[39mbarh(user_filter\u001b[38;5;241m.\u001b[39mindex\u001b[38;5;241m.\u001b[39mtolist()[:\u001b[38;5;241m5\u001b[39m], user_filter[\u001b[38;5;124m'\u001b[39m\u001b[38;5;124mGRAND TOTAL\u001b[39m\u001b[38;5;124m'\u001b[39m]\u001b[38;5;241m.\u001b[39mhead(\u001b[38;5;241m5\u001b[39m))\n\u001b[0;32m      4\u001b[0m plt\u001b[38;5;241m.\u001b[39mbarh(user_filter\u001b[38;5;241m.\u001b[39mindex\u001b[38;5;241m.\u001b[39mtolist()[:\u001b[38;5;241m5\u001b[39m], user_filter[\u001b[38;5;124m\"\u001b[39m\u001b[38;5;124mPRODUCTS\u001b[39m\u001b[38;5;124m'\u001b[39m\u001b[38;5;124m PRICE PAID BY BUYER\u001b[39m\u001b[38;5;124m\"\u001b[39m]\u001b[38;5;241m.\u001b[39mhead(\u001b[38;5;241m5\u001b[39m))\n",
      "\u001b[1;31mNameError\u001b[0m: name 'plt' is not defined"
     ]
    }
   ],
   "source": [
    "plt.figure(figsize = (8,5))\n",
    "\n",
    "plt.barh(user_filter.index.tolist()[:5], user_filter['GRAND TOTAL'].head(5))\n",
    "plt.barh(user_filter.index.tolist()[:5], user_filter[\"PRODUCTS' PRICE PAID BY BUYER\"].head(5))"
   ]
  },
  {
   "cell_type": "code",
   "execution_count": null,
   "id": "6c98a553-a83d-4e96-ae20-c3fbdcba1b11",
   "metadata": {},
   "outputs": [],
   "source": [
    "\n",
    "plt.figure(figsize=(8, 5))\n",
    "\n",
    "# Define the number of bars\n",
    "num_bars = 5\n",
    "\n",
    "# Set the positions for the bars\n",
    "y_positions = range(num_bars)\n",
    "\n",
    "# Plotting the first set of bars (GRAND TOTAL)\n",
    "plt.barh(y_positions, user_filter['GRAND TOTAL'].head(num_bars), color='blue', label='GRAND TOTAL', height = 0.2)\n",
    "\n",
    "# Plotting the second set of bars (PRODUCTS' PRICE PAID BY BUYER) with an offset\n",
    "plt.barh([p + 0.3 for p in y_positions], user_filter[\"PRODUCTS' PRICE PAID BY BUYER\"].head(num_bars), color='orange', label=\"PRODUCTS' PRICE PAID BY BUYER\", height = 0.2)\n",
    "\n",
    "# Adding labels and title\n",
    "plt.yticks([p + 0.15 for p in y_positions], user_filter.index.tolist()[:num_bars])  # Adjust y-ticks to center them\n",
    "plt.xlabel('Values')\n",
    "plt.title('Top 5 Users by GRAND TOTAL and PRODUCTS PRICE PAID BY BUYER')\n",
    "plt.legend()\n",
    "plt.show()"
   ]
  },
  {
   "cell_type": "code",
   "execution_count": 39,
   "id": "99b86efb-7848-49eb-877b-fa1d8daa95fa",
   "metadata": {
    "scrolled": true
   },
   "outputs": [
    {
     "ename": "NameError",
     "evalue": "name 'df' is not defined",
     "output_type": "error",
     "traceback": [
      "\u001b[1;31m---------------------------------------------------------------------------\u001b[0m",
      "\u001b[1;31mNameError\u001b[0m                                 Traceback (most recent call last)",
      "Cell \u001b[1;32mIn[39], line 1\u001b[0m\n\u001b[1;32m----> 1\u001b[0m df\u001b[38;5;241m.\u001b[39mhead()\n",
      "\u001b[1;31mNameError\u001b[0m: name 'df' is not defined"
     ]
    }
   ],
   "source": [
    "df.head()"
   ]
  },
  {
   "cell_type": "code",
   "execution_count": 41,
   "id": "34ce6292-ceb9-4b26-82aa-989809c4c145",
   "metadata": {
    "scrolled": true
   },
   "outputs": [
    {
     "ename": "NameError",
     "evalue": "name 'df' is not defined",
     "output_type": "error",
     "traceback": [
      "\u001b[1;31m---------------------------------------------------------------------------\u001b[0m",
      "\u001b[1;31mNameError\u001b[0m                                 Traceback (most recent call last)",
      "Cell \u001b[1;32mIn[41], line 2\u001b[0m\n\u001b[0;32m      1\u001b[0m \u001b[38;5;66;03m# Convert the index to datetime first\u001b[39;00m\n\u001b[1;32m----> 2\u001b[0m datetime_index \u001b[38;5;241m=\u001b[39m pd\u001b[38;5;241m.\u001b[39mto_datetime(df\u001b[38;5;241m.\u001b[39mindex, errors \u001b[38;5;241m=\u001b[39m \u001b[38;5;124m'\u001b[39m\u001b[38;5;124mcoerce\u001b[39m\u001b[38;5;124m'\u001b[39m)\n\u001b[0;32m      4\u001b[0m \u001b[38;5;66;03m# Now access the year and month separately\u001b[39;00m\n\u001b[0;32m      5\u001b[0m months \u001b[38;5;241m=\u001b[39m datetime_index\u001b[38;5;241m.\u001b[39mmonth  \u001b[38;5;66;03m# This will give you the month\u001b[39;00m\n",
      "\u001b[1;31mNameError\u001b[0m: name 'df' is not defined"
     ]
    }
   ],
   "source": [
    "# Convert the index to datetime first\n",
    "datetime_index = pd.to_datetime(df.index, errors = 'coerce')\n",
    "\n",
    "# Now access the year and month separately\n",
    "months = datetime_index.month  # This will give you the month\n",
    "years = datetime_index.year    # This will give you the year \n",
    "\n",
    "# If you want to see both together, you can create a DataFrame or Series\n",
    "result = pd.DataFrame({'Month': months, 'Year': years})\n",
    "\n",
    "#String together\n",
    "df['Month-Year'] = result['Month'].astype(str) + '-' + result['Year'].astype(str)\n",
    "\n",
    "# In case needed: Convert 'Month-Year' to datetime format\n",
    "# result['Month-Year'] = pd.to_datetime(result['Month-Year'], format='%m-%Y')\n",
    "\n",
    "# Display the result\n",
    "df.head()"
   ]
  },
  {
   "cell_type": "code",
   "execution_count": null,
   "id": "61574e8a-2a81-404e-b05a-a4d5d2641f62",
   "metadata": {},
   "outputs": [],
   "source": [
    "result.head()"
   ]
  },
  {
   "cell_type": "code",
   "execution_count": 44,
   "id": "2ccab5f0-933d-4525-b7b2-a0238533d93e",
   "metadata": {},
   "outputs": [
    {
     "ename": "ImportError",
     "evalue": "cannot import name 'Axes' from 'matplotlib.axes' (unknown location)",
     "output_type": "error",
     "traceback": [
      "\u001b[1;31m---------------------------------------------------------------------------\u001b[0m",
      "\u001b[1;31mImportError\u001b[0m                               Traceback (most recent call last)",
      "Cell \u001b[1;32mIn[44], line 1\u001b[0m\n\u001b[1;32m----> 1\u001b[0m \u001b[38;5;28;01mimport\u001b[39;00m \u001b[38;5;21;01mmatplotlib\u001b[39;00m\u001b[38;5;21;01m.\u001b[39;00m\u001b[38;5;21;01mpyplot\u001b[39;00m \u001b[38;5;28;01mas\u001b[39;00m \u001b[38;5;21;01mplt\u001b[39;00m\n\u001b[0;32m      3\u001b[0m \u001b[38;5;66;03m# Set the figure size\u001b[39;00m\n\u001b[0;32m      4\u001b[0m plt\u001b[38;5;241m.\u001b[39mfigure(figsize\u001b[38;5;241m=\u001b[39m(\u001b[38;5;241m8\u001b[39m, \u001b[38;5;241m5\u001b[39m))\n",
      "File \u001b[1;32m~\\anaconda3\\Lib\\site-packages\\matplotlib\\pyplot.py:66\u001b[0m\n\u001b[0;32m     63\u001b[0m \u001b[38;5;28;01mfrom\u001b[39;00m \u001b[38;5;21;01mmatplotlib\u001b[39;00m \u001b[38;5;28;01mimport\u001b[39;00m _docstring\n\u001b[0;32m     64\u001b[0m \u001b[38;5;28;01mfrom\u001b[39;00m \u001b[38;5;21;01mmatplotlib\u001b[39;00m\u001b[38;5;21;01m.\u001b[39;00m\u001b[38;5;21;01mbackend_bases\u001b[39;00m \u001b[38;5;28;01mimport\u001b[39;00m (\n\u001b[0;32m     65\u001b[0m     FigureCanvasBase, FigureManagerBase, MouseButton)\n\u001b[1;32m---> 66\u001b[0m \u001b[38;5;28;01mfrom\u001b[39;00m \u001b[38;5;21;01mmatplotlib\u001b[39;00m\u001b[38;5;21;01m.\u001b[39;00m\u001b[38;5;21;01mfigure\u001b[39;00m \u001b[38;5;28;01mimport\u001b[39;00m Figure, FigureBase, figaspect\n\u001b[0;32m     67\u001b[0m \u001b[38;5;28;01mfrom\u001b[39;00m \u001b[38;5;21;01mmatplotlib\u001b[39;00m\u001b[38;5;21;01m.\u001b[39;00m\u001b[38;5;21;01mgridspec\u001b[39;00m \u001b[38;5;28;01mimport\u001b[39;00m GridSpec, SubplotSpec\n\u001b[0;32m     68\u001b[0m \u001b[38;5;28;01mfrom\u001b[39;00m \u001b[38;5;21;01mmatplotlib\u001b[39;00m \u001b[38;5;28;01mimport\u001b[39;00m rcsetup, rcParamsDefault, rcParamsOrig\n",
      "File \u001b[1;32m~\\anaconda3\\Lib\\site-packages\\matplotlib\\figure.py:43\u001b[0m\n\u001b[0;32m     40\u001b[0m \u001b[38;5;28;01mimport\u001b[39;00m \u001b[38;5;21;01mnumpy\u001b[39;00m \u001b[38;5;28;01mas\u001b[39;00m \u001b[38;5;21;01mnp\u001b[39;00m\n\u001b[0;32m     42\u001b[0m \u001b[38;5;28;01mimport\u001b[39;00m \u001b[38;5;21;01mmatplotlib\u001b[39;00m \u001b[38;5;28;01mas\u001b[39;00m \u001b[38;5;21;01mmpl\u001b[39;00m\n\u001b[1;32m---> 43\u001b[0m \u001b[38;5;28;01mfrom\u001b[39;00m \u001b[38;5;21;01mmatplotlib\u001b[39;00m \u001b[38;5;28;01mimport\u001b[39;00m _blocking_input, backend_bases, _docstring, projections\n\u001b[0;32m     44\u001b[0m \u001b[38;5;28;01mfrom\u001b[39;00m \u001b[38;5;21;01mmatplotlib\u001b[39;00m\u001b[38;5;21;01m.\u001b[39;00m\u001b[38;5;21;01martist\u001b[39;00m \u001b[38;5;28;01mimport\u001b[39;00m (\n\u001b[0;32m     45\u001b[0m     Artist, allow_rasterization, _finalize_rasterization)\n\u001b[0;32m     46\u001b[0m \u001b[38;5;28;01mfrom\u001b[39;00m \u001b[38;5;21;01mmatplotlib\u001b[39;00m\u001b[38;5;21;01m.\u001b[39;00m\u001b[38;5;21;01mbackend_bases\u001b[39;00m \u001b[38;5;28;01mimport\u001b[39;00m (\n\u001b[0;32m     47\u001b[0m     DrawEvent, FigureCanvasBase, NonGuiException, MouseButton, _get_renderer)\n",
      "File \u001b[1;32m~\\anaconda3\\Lib\\site-packages\\matplotlib\\projections\\__init__.py:56\u001b[0m\n\u001b[0;32m      1\u001b[0m \u001b[38;5;124;03m\"\"\"\u001b[39;00m\n\u001b[0;32m      2\u001b[0m \u001b[38;5;124;03mNon-separable transforms that map from data space to screen space.\u001b[39;00m\n\u001b[0;32m      3\u001b[0m \n\u001b[1;32m   (...)\u001b[0m\n\u001b[0;32m     52\u001b[0m \u001b[38;5;124;03m`matplotlib.projections.polar` may also be of interest.\u001b[39;00m\n\u001b[0;32m     53\u001b[0m \u001b[38;5;124;03m\"\"\"\u001b[39;00m\n\u001b[0;32m     55\u001b[0m \u001b[38;5;28;01mfrom\u001b[39;00m \u001b[38;5;21;01m.\u001b[39;00m\u001b[38;5;21;01m.\u001b[39;00m \u001b[38;5;28;01mimport\u001b[39;00m axes, _docstring\n\u001b[1;32m---> 56\u001b[0m \u001b[38;5;28;01mfrom\u001b[39;00m \u001b[38;5;21;01m.\u001b[39;00m\u001b[38;5;21;01mgeo\u001b[39;00m \u001b[38;5;28;01mimport\u001b[39;00m AitoffAxes, HammerAxes, LambertAxes, MollweideAxes\n\u001b[0;32m     57\u001b[0m \u001b[38;5;28;01mfrom\u001b[39;00m \u001b[38;5;21;01m.\u001b[39;00m\u001b[38;5;21;01mpolar\u001b[39;00m \u001b[38;5;28;01mimport\u001b[39;00m PolarAxes\n\u001b[0;32m     59\u001b[0m \u001b[38;5;28;01mtry\u001b[39;00m:\n",
      "File \u001b[1;32m~\\anaconda3\\Lib\\site-packages\\matplotlib\\projections\\geo.py:5\u001b[0m\n\u001b[0;32m      3\u001b[0m \u001b[38;5;28;01mimport\u001b[39;00m \u001b[38;5;21;01mmatplotlib\u001b[39;00m \u001b[38;5;28;01mas\u001b[39;00m \u001b[38;5;21;01mmpl\u001b[39;00m\n\u001b[0;32m      4\u001b[0m \u001b[38;5;28;01mfrom\u001b[39;00m \u001b[38;5;21;01mmatplotlib\u001b[39;00m \u001b[38;5;28;01mimport\u001b[39;00m _api\n\u001b[1;32m----> 5\u001b[0m \u001b[38;5;28;01mfrom\u001b[39;00m \u001b[38;5;21;01mmatplotlib\u001b[39;00m\u001b[38;5;21;01m.\u001b[39;00m\u001b[38;5;21;01maxes\u001b[39;00m \u001b[38;5;28;01mimport\u001b[39;00m Axes\n\u001b[0;32m      6\u001b[0m \u001b[38;5;28;01mimport\u001b[39;00m \u001b[38;5;21;01mmatplotlib\u001b[39;00m\u001b[38;5;21;01m.\u001b[39;00m\u001b[38;5;21;01maxis\u001b[39;00m \u001b[38;5;28;01mas\u001b[39;00m \u001b[38;5;21;01mmaxis\u001b[39;00m\n\u001b[0;32m      7\u001b[0m \u001b[38;5;28;01mfrom\u001b[39;00m \u001b[38;5;21;01mmatplotlib\u001b[39;00m\u001b[38;5;21;01m.\u001b[39;00m\u001b[38;5;21;01mpatches\u001b[39;00m \u001b[38;5;28;01mimport\u001b[39;00m Circle\n",
      "\u001b[1;31mImportError\u001b[0m: cannot import name 'Axes' from 'matplotlib.axes' (unknown location)"
     ]
    }
   ],
   "source": [
    "import matplotlib.pyplot as plt\n",
    "\n",
    "# Set the figure size\n",
    "plt.figure(figsize=(8, 5))\n",
    "\n",
    "# Create a DataFrame for plotting\n",
    "# Assuming user_filter is already defined and contains the necessary data\n",
    "\n",
    "# Plotting the first set of bars (GRAND TOTAL)\n",
    "user_filter.head().plot.barh(\n",
    "    y='GRAND TOTAL',\n",
    "    color='blue',\n",
    "    position=1,  # Position for the first set of bars\n",
    "    label='GRAND TOTAL',\n",
    "    ax=plt.gca()  # Use the current axis\n",
    ")\n",
    "\n",
    "# Plotting the second set of bars (PRODUCTS' PRICE PAID BY BUYER) with an offset\n",
    "user_filter.head().plot.barh(\n",
    "    y=\"PRODUCTS' PRICE PAID BY BUYER\",\n",
    "    color='orange',\n",
    "    position=0,  # Position for the second set of bars\n",
    "    label=\"PRODUCTS' PRICE PAID BY BUYER\",\n",
    "    ax=plt.gca()  # Use the same axis\n",
    ")\n",
    "\n",
    "# Adding labels and title\n",
    "plt.yticks(range(num_bars), user_filter.index.tolist()[:num_bars])  # Set y-ticks\n",
    "plt.xlabel('Values')\n",
    "plt.title('Top 5 Users by GRAND TOTAL and PRODUCTS PRICE PAID BY BUYER')\n",
    "plt.legend()\n",
    "plt.show()"
   ]
  },
  {
   "cell_type": "code",
   "execution_count": null,
   "id": "42ab5be9-bd48-4fd3-a1c8-cc80a000232c",
   "metadata": {},
   "outputs": [],
   "source": []
  },
  {
   "cell_type": "code",
   "execution_count": null,
   "id": "bbef6e34-ee1e-4d00-b367-e1a287fb71f5",
   "metadata": {},
   "outputs": [],
   "source": []
  },
  {
   "cell_type": "code",
   "execution_count": null,
   "id": "75555486-4e0d-4610-8117-6835856d9ed0",
   "metadata": {},
   "outputs": [],
   "source": []
  },
  {
   "cell_type": "code",
   "execution_count": null,
   "id": "0ceb27ea-500a-4bf8-b560-486ae9ab3af1",
   "metadata": {},
   "outputs": [],
   "source": []
  },
  {
   "cell_type": "code",
   "execution_count": null,
   "id": "ad9726ad-d93f-49d5-b54f-650da42aa393",
   "metadata": {},
   "outputs": [],
   "source": []
  },
  {
   "cell_type": "code",
   "execution_count": null,
   "id": "2fadcafc-872a-427b-81d9-3f3a6b086210",
   "metadata": {},
   "outputs": [],
   "source": []
  },
  {
   "cell_type": "code",
   "execution_count": null,
   "id": "7e8eda36-5ecb-4b0c-bfbc-c347d05743d7",
   "metadata": {},
   "outputs": [],
   "source": []
  }
 ],
 "metadata": {
  "kernelspec": {
   "display_name": "Python 3 (ipykernel)",
   "language": "python",
   "name": "python3"
  },
  "language_info": {
   "codemirror_mode": {
    "name": "ipython",
    "version": 3
   },
   "file_extension": ".py",
   "mimetype": "text/x-python",
   "name": "python",
   "nbconvert_exporter": "python",
   "pygments_lexer": "ipython3",
   "version": "3.12.4"
  }
 },
 "nbformat": 4,
 "nbformat_minor": 5
}
